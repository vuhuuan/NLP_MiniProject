{
  "cells": [
    {
      "cell_type": "markdown",
      "metadata": {
        "id": "4775a32a"
      },
      "source": [
        "## Install and import libraries"
      ],
      "id": "4775a32a"
    },
    {
      "cell_type": "code",
      "execution_count": null,
      "metadata": {
        "colab": {
          "base_uri": "https://localhost:8080/"
        },
        "id": "WqcZo9rW3zG3",
        "outputId": "a81ba607-448a-452e-e245-d67e6168332f"
      },
      "outputs": [
        {
          "output_type": "stream",
          "name": "stdout",
          "text": [
            "Mounted at /content/drive\n"
          ]
        }
      ],
      "source": [
        "from google.colab import drive\n",
        "drive.mount('/content/drive')"
      ],
      "id": "WqcZo9rW3zG3"
    },
    {
      "cell_type": "code",
      "execution_count": null,
      "metadata": {
        "colab": {
          "base_uri": "https://localhost:8080/",
          "height": 1000
        },
        "id": "10892441",
        "outputId": "71f3c757-771f-48b2-fa39-da3e970dcf40"
      },
      "outputs": [
        {
          "output_type": "stream",
          "name": "stdout",
          "text": [
            "Collecting tensorflow==2.10\n",
            "  Downloading tensorflow-2.10.0-cp310-cp310-manylinux_2_17_x86_64.manylinux2014_x86_64.whl (578.0 MB)\n",
            "\u001b[2K     \u001b[90m━━━━━━━━━━━━━━━━━━━━━━━━━━━━━━━━━━━━━━━━\u001b[0m \u001b[32m578.0/578.0 MB\u001b[0m \u001b[31m1.2 MB/s\u001b[0m eta \u001b[36m0:00:00\u001b[0m\n",
            "\u001b[?25hRequirement already satisfied: absl-py>=1.0.0 in /usr/local/lib/python3.10/dist-packages (from tensorflow==2.10) (1.4.0)\n",
            "Requirement already satisfied: astunparse>=1.6.0 in /usr/local/lib/python3.10/dist-packages (from tensorflow==2.10) (1.6.3)\n",
            "Requirement already satisfied: flatbuffers>=2.0 in /usr/local/lib/python3.10/dist-packages (from tensorflow==2.10) (23.5.26)\n",
            "Requirement already satisfied: gast<=0.4.0,>=0.2.1 in /usr/local/lib/python3.10/dist-packages (from tensorflow==2.10) (0.4.0)\n",
            "Requirement already satisfied: google-pasta>=0.1.1 in /usr/local/lib/python3.10/dist-packages (from tensorflow==2.10) (0.2.0)\n",
            "Requirement already satisfied: grpcio<2.0,>=1.24.3 in /usr/local/lib/python3.10/dist-packages (from tensorflow==2.10) (1.59.2)\n",
            "Requirement already satisfied: h5py>=2.9.0 in /usr/local/lib/python3.10/dist-packages (from tensorflow==2.10) (3.9.0)\n",
            "Collecting keras<2.11,>=2.10.0 (from tensorflow==2.10)\n",
            "  Downloading keras-2.10.0-py2.py3-none-any.whl (1.7 MB)\n",
            "\u001b[2K     \u001b[90m━━━━━━━━━━━━━━━━━━━━━━━━━━━━━━━━━━━━━━━━\u001b[0m \u001b[32m1.7/1.7 MB\u001b[0m \u001b[31m69.3 MB/s\u001b[0m eta \u001b[36m0:00:00\u001b[0m\n",
            "\u001b[?25hCollecting keras-preprocessing>=1.1.1 (from tensorflow==2.10)\n",
            "  Downloading Keras_Preprocessing-1.1.2-py2.py3-none-any.whl (42 kB)\n",
            "\u001b[2K     \u001b[90m━━━━━━━━━━━━━━━━━━━━━━━━━━━━━━━━━━━━━━━━\u001b[0m \u001b[32m42.6/42.6 kB\u001b[0m \u001b[31m4.7 MB/s\u001b[0m eta \u001b[36m0:00:00\u001b[0m\n",
            "\u001b[?25hRequirement already satisfied: libclang>=13.0.0 in /usr/local/lib/python3.10/dist-packages (from tensorflow==2.10) (16.0.6)\n",
            "Requirement already satisfied: numpy>=1.20 in /usr/local/lib/python3.10/dist-packages (from tensorflow==2.10) (1.23.5)\n",
            "Requirement already satisfied: opt-einsum>=2.3.2 in /usr/local/lib/python3.10/dist-packages (from tensorflow==2.10) (3.3.0)\n",
            "Requirement already satisfied: packaging in /usr/local/lib/python3.10/dist-packages (from tensorflow==2.10) (23.2)\n",
            "Collecting protobuf<3.20,>=3.9.2 (from tensorflow==2.10)\n",
            "  Downloading protobuf-3.19.6-cp310-cp310-manylinux_2_17_x86_64.manylinux2014_x86_64.whl (1.1 MB)\n",
            "\u001b[2K     \u001b[90m━━━━━━━━━━━━━━━━━━━━━━━━━━━━━━━━━━━━━━━━\u001b[0m \u001b[32m1.1/1.1 MB\u001b[0m \u001b[31m70.7 MB/s\u001b[0m eta \u001b[36m0:00:00\u001b[0m\n",
            "\u001b[?25hRequirement already satisfied: setuptools in /usr/local/lib/python3.10/dist-packages (from tensorflow==2.10) (67.7.2)\n",
            "Requirement already satisfied: six>=1.12.0 in /usr/local/lib/python3.10/dist-packages (from tensorflow==2.10) (1.16.0)\n",
            "Collecting tensorboard<2.11,>=2.10 (from tensorflow==2.10)\n",
            "  Downloading tensorboard-2.10.1-py3-none-any.whl (5.9 MB)\n",
            "\u001b[2K     \u001b[90m━━━━━━━━━━━━━━━━━━━━━━━━━━━━━━━━━━━━━━━━\u001b[0m \u001b[32m5.9/5.9 MB\u001b[0m \u001b[31m78.7 MB/s\u001b[0m eta \u001b[36m0:00:00\u001b[0m\n",
            "\u001b[?25hRequirement already satisfied: tensorflow-io-gcs-filesystem>=0.23.1 in /usr/local/lib/python3.10/dist-packages (from tensorflow==2.10) (0.34.0)\n",
            "Collecting tensorflow-estimator<2.11,>=2.10.0 (from tensorflow==2.10)\n",
            "  Downloading tensorflow_estimator-2.10.0-py2.py3-none-any.whl (438 kB)\n",
            "\u001b[2K     \u001b[90m━━━━━━━━━━━━━━━━━━━━━━━━━━━━━━━━━━━━━━━━\u001b[0m \u001b[32m438.7/438.7 kB\u001b[0m \u001b[31m36.4 MB/s\u001b[0m eta \u001b[36m0:00:00\u001b[0m\n",
            "\u001b[?25hRequirement already satisfied: termcolor>=1.1.0 in /usr/local/lib/python3.10/dist-packages (from tensorflow==2.10) (2.3.0)\n",
            "Requirement already satisfied: typing-extensions>=3.6.6 in /usr/local/lib/python3.10/dist-packages (from tensorflow==2.10) (4.5.0)\n",
            "Requirement already satisfied: wrapt>=1.11.0 in /usr/local/lib/python3.10/dist-packages (from tensorflow==2.10) (1.14.1)\n",
            "Requirement already satisfied: wheel<1.0,>=0.23.0 in /usr/local/lib/python3.10/dist-packages (from astunparse>=1.6.0->tensorflow==2.10) (0.41.3)\n",
            "Requirement already satisfied: google-auth<3,>=1.6.3 in /usr/local/lib/python3.10/dist-packages (from tensorboard<2.11,>=2.10->tensorflow==2.10) (2.17.3)\n",
            "Requirement already satisfied: google-auth-oauthlib<0.5,>=0.4.1 in /usr/local/lib/python3.10/dist-packages (from tensorboard<2.11,>=2.10->tensorflow==2.10) (0.4.6)\n",
            "Requirement already satisfied: markdown>=2.6.8 in /usr/local/lib/python3.10/dist-packages (from tensorboard<2.11,>=2.10->tensorflow==2.10) (3.5.1)\n",
            "Requirement already satisfied: requests<3,>=2.21.0 in /usr/local/lib/python3.10/dist-packages (from tensorboard<2.11,>=2.10->tensorflow==2.10) (2.31.0)\n",
            "Collecting tensorboard-data-server<0.7.0,>=0.6.0 (from tensorboard<2.11,>=2.10->tensorflow==2.10)\n",
            "  Downloading tensorboard_data_server-0.6.1-py3-none-manylinux2010_x86_64.whl (4.9 MB)\n",
            "\u001b[2K     \u001b[90m━━━━━━━━━━━━━━━━━━━━━━━━━━━━━━━━━━━━━━━━\u001b[0m \u001b[32m4.9/4.9 MB\u001b[0m \u001b[31m78.5 MB/s\u001b[0m eta \u001b[36m0:00:00\u001b[0m\n",
            "\u001b[?25hRequirement already satisfied: tensorboard-plugin-wit>=1.6.0 in /usr/local/lib/python3.10/dist-packages (from tensorboard<2.11,>=2.10->tensorflow==2.10) (1.8.1)\n",
            "Requirement already satisfied: werkzeug>=1.0.1 in /usr/local/lib/python3.10/dist-packages (from tensorboard<2.11,>=2.10->tensorflow==2.10) (3.0.1)\n",
            "Requirement already satisfied: cachetools<6.0,>=2.0.0 in /usr/local/lib/python3.10/dist-packages (from google-auth<3,>=1.6.3->tensorboard<2.11,>=2.10->tensorflow==2.10) (5.3.2)\n",
            "Requirement already satisfied: pyasn1-modules>=0.2.1 in /usr/local/lib/python3.10/dist-packages (from google-auth<3,>=1.6.3->tensorboard<2.11,>=2.10->tensorflow==2.10) (0.3.0)\n",
            "Requirement already satisfied: rsa<5,>=3.1.4 in /usr/local/lib/python3.10/dist-packages (from google-auth<3,>=1.6.3->tensorboard<2.11,>=2.10->tensorflow==2.10) (4.9)\n",
            "Requirement already satisfied: requests-oauthlib>=0.7.0 in /usr/local/lib/python3.10/dist-packages (from google-auth-oauthlib<0.5,>=0.4.1->tensorboard<2.11,>=2.10->tensorflow==2.10) (1.3.1)\n",
            "Requirement already satisfied: charset-normalizer<4,>=2 in /usr/local/lib/python3.10/dist-packages (from requests<3,>=2.21.0->tensorboard<2.11,>=2.10->tensorflow==2.10) (3.3.2)\n",
            "Requirement already satisfied: idna<4,>=2.5 in /usr/local/lib/python3.10/dist-packages (from requests<3,>=2.21.0->tensorboard<2.11,>=2.10->tensorflow==2.10) (3.4)\n",
            "Requirement already satisfied: urllib3<3,>=1.21.1 in /usr/local/lib/python3.10/dist-packages (from requests<3,>=2.21.0->tensorboard<2.11,>=2.10->tensorflow==2.10) (2.0.7)\n",
            "Requirement already satisfied: certifi>=2017.4.17 in /usr/local/lib/python3.10/dist-packages (from requests<3,>=2.21.0->tensorboard<2.11,>=2.10->tensorflow==2.10) (2023.7.22)\n",
            "Requirement already satisfied: MarkupSafe>=2.1.1 in /usr/local/lib/python3.10/dist-packages (from werkzeug>=1.0.1->tensorboard<2.11,>=2.10->tensorflow==2.10) (2.1.3)\n",
            "Requirement already satisfied: pyasn1<0.6.0,>=0.4.6 in /usr/local/lib/python3.10/dist-packages (from pyasn1-modules>=0.2.1->google-auth<3,>=1.6.3->tensorboard<2.11,>=2.10->tensorflow==2.10) (0.5.0)\n",
            "Requirement already satisfied: oauthlib>=3.0.0 in /usr/local/lib/python3.10/dist-packages (from requests-oauthlib>=0.7.0->google-auth-oauthlib<0.5,>=0.4.1->tensorboard<2.11,>=2.10->tensorflow==2.10) (3.2.2)\n",
            "Installing collected packages: keras, tensorflow-estimator, tensorboard-data-server, protobuf, keras-preprocessing, tensorboard, tensorflow\n",
            "  Attempting uninstall: keras\n",
            "    Found existing installation: keras 2.12.0\n",
            "    Uninstalling keras-2.12.0:\n",
            "      Successfully uninstalled keras-2.12.0\n",
            "  Attempting uninstall: tensorflow-estimator\n",
            "    Found existing installation: tensorflow-estimator 2.12.0\n",
            "    Uninstalling tensorflow-estimator-2.12.0:\n",
            "      Successfully uninstalled tensorflow-estimator-2.12.0\n",
            "  Attempting uninstall: tensorboard-data-server\n",
            "    Found existing installation: tensorboard-data-server 0.7.2\n",
            "    Uninstalling tensorboard-data-server-0.7.2:\n",
            "      Successfully uninstalled tensorboard-data-server-0.7.2\n",
            "  Attempting uninstall: protobuf\n",
            "    Found existing installation: protobuf 3.20.3\n",
            "    Uninstalling protobuf-3.20.3:\n",
            "      Successfully uninstalled protobuf-3.20.3\n",
            "  Attempting uninstall: tensorboard\n",
            "    Found existing installation: tensorboard 2.12.0\n",
            "    Uninstalling tensorboard-2.12.0:\n",
            "      Successfully uninstalled tensorboard-2.12.0\n",
            "  Attempting uninstall: tensorflow\n",
            "    Found existing installation: tensorflow 2.12.0\n",
            "    Uninstalling tensorflow-2.12.0:\n",
            "      Successfully uninstalled tensorflow-2.12.0\n",
            "\u001b[31mERROR: pip's dependency resolver does not currently take into account all the packages that are installed. This behaviour is the source of the following dependency conflicts.\n",
            "orbax-checkpoint 0.4.2 requires jax>=0.4.9, but you have jax 0.3.25 which is incompatible.\n",
            "tensorflow-datasets 4.9.3 requires protobuf>=3.20, but you have protobuf 3.19.6 which is incompatible.\n",
            "tensorflow-metadata 1.14.0 requires protobuf<4.21,>=3.20.3, but you have protobuf 3.19.6 which is incompatible.\u001b[0m\u001b[31m\n",
            "\u001b[0mSuccessfully installed keras-2.10.0 keras-preprocessing-1.1.2 protobuf-3.19.6 tensorboard-2.10.1 tensorboard-data-server-0.6.1 tensorflow-2.10.0 tensorflow-estimator-2.10.0\n"
          ]
        },
        {
          "output_type": "display_data",
          "data": {
            "application/vnd.colab-display-data+json": {
              "pip_warning": {
                "packages": [
                  "google"
                ]
              }
            }
          },
          "metadata": {}
        }
      ],
      "source": [
        "pip install tensorflow==2.10"
      ],
      "id": "10892441"
    },
    {
      "cell_type": "code",
      "execution_count": null,
      "metadata": {
        "colab": {
          "base_uri": "https://localhost:8080/"
        },
        "id": "FrUmTFbVZbct",
        "outputId": "7eae354b-c8de-4476-b635-ec9a46f146d4"
      },
      "outputs": [
        {
          "output_type": "stream",
          "name": "stdout",
          "text": [
            "Collecting textaugment\n",
            "  Downloading textaugment-2.0.0-py3-none-any.whl (19 kB)\n",
            "Requirement already satisfied: nltk in /usr/local/lib/python3.10/dist-packages (from textaugment) (3.8.1)\n",
            "Requirement already satisfied: gensim>=4.0 in /usr/local/lib/python3.10/dist-packages (from textaugment) (4.3.2)\n",
            "Requirement already satisfied: textblob in /usr/local/lib/python3.10/dist-packages (from textaugment) (0.17.1)\n",
            "Requirement already satisfied: numpy in /usr/local/lib/python3.10/dist-packages (from textaugment) (1.23.5)\n",
            "Collecting googletrans>=2 (from textaugment)\n",
            "  Downloading googletrans-3.0.0.tar.gz (17 kB)\n",
            "  Preparing metadata (setup.py) ... \u001b[?25l\u001b[?25hdone\n",
            "Requirement already satisfied: scipy>=1.7.0 in /usr/local/lib/python3.10/dist-packages (from gensim>=4.0->textaugment) (1.11.3)\n",
            "Requirement already satisfied: smart-open>=1.8.1 in /usr/local/lib/python3.10/dist-packages (from gensim>=4.0->textaugment) (6.4.0)\n",
            "Collecting httpx==0.13.3 (from googletrans>=2->textaugment)\n",
            "  Downloading httpx-0.13.3-py3-none-any.whl (55 kB)\n",
            "\u001b[2K     \u001b[90m━━━━━━━━━━━━━━━━━━━━━━━━━━━━━━━━━━━━━━━━\u001b[0m \u001b[32m55.1/55.1 kB\u001b[0m \u001b[31m3.4 MB/s\u001b[0m eta \u001b[36m0:00:00\u001b[0m\n",
            "\u001b[?25hRequirement already satisfied: certifi in /usr/local/lib/python3.10/dist-packages (from httpx==0.13.3->googletrans>=2->textaugment) (2023.7.22)\n",
            "Collecting hstspreload (from httpx==0.13.3->googletrans>=2->textaugment)\n",
            "  Downloading hstspreload-2023.1.1-py3-none-any.whl (1.5 MB)\n",
            "\u001b[2K     \u001b[90m━━━━━━━━━━━━━━━━━━━━━━━━━━━━━━━━━━━━━━━━\u001b[0m \u001b[32m1.5/1.5 MB\u001b[0m \u001b[31m28.8 MB/s\u001b[0m eta \u001b[36m0:00:00\u001b[0m\n",
            "\u001b[?25hRequirement already satisfied: sniffio in /usr/local/lib/python3.10/dist-packages (from httpx==0.13.3->googletrans>=2->textaugment) (1.3.0)\n",
            "Collecting chardet==3.* (from httpx==0.13.3->googletrans>=2->textaugment)\n",
            "  Downloading chardet-3.0.4-py2.py3-none-any.whl (133 kB)\n",
            "\u001b[2K     \u001b[90m━━━━━━━━━━━━━━━━━━━━━━━━━━━━━━━━━━━━━━━━\u001b[0m \u001b[32m133.4/133.4 kB\u001b[0m \u001b[31m17.1 MB/s\u001b[0m eta \u001b[36m0:00:00\u001b[0m\n",
            "\u001b[?25hCollecting idna==2.* (from httpx==0.13.3->googletrans>=2->textaugment)\n",
            "  Downloading idna-2.10-py2.py3-none-any.whl (58 kB)\n",
            "\u001b[2K     \u001b[90m━━━━━━━━━━━━━━━━━━━━━━━━━━━━━━━━━━━━━━━━\u001b[0m \u001b[32m58.8/58.8 kB\u001b[0m \u001b[31m5.5 MB/s\u001b[0m eta \u001b[36m0:00:00\u001b[0m\n",
            "\u001b[?25hCollecting rfc3986<2,>=1.3 (from httpx==0.13.3->googletrans>=2->textaugment)\n",
            "  Downloading rfc3986-1.5.0-py2.py3-none-any.whl (31 kB)\n",
            "Collecting httpcore==0.9.* (from httpx==0.13.3->googletrans>=2->textaugment)\n",
            "  Downloading httpcore-0.9.1-py3-none-any.whl (42 kB)\n",
            "\u001b[2K     \u001b[90m━━━━━━━━━━━━━━━━━━━━━━━━━━━━━━━━━━━━━━━━\u001b[0m \u001b[32m42.6/42.6 kB\u001b[0m \u001b[31m5.3 MB/s\u001b[0m eta \u001b[36m0:00:00\u001b[0m\n",
            "\u001b[?25hCollecting h11<0.10,>=0.8 (from httpcore==0.9.*->httpx==0.13.3->googletrans>=2->textaugment)\n",
            "  Downloading h11-0.9.0-py2.py3-none-any.whl (53 kB)\n",
            "\u001b[2K     \u001b[90m━━━━━━━━━━━━━━━━━━━━━━━━━━━━━━━━━━━━━━━━\u001b[0m \u001b[32m53.6/53.6 kB\u001b[0m \u001b[31m6.4 MB/s\u001b[0m eta \u001b[36m0:00:00\u001b[0m\n",
            "\u001b[?25hCollecting h2==3.* (from httpcore==0.9.*->httpx==0.13.3->googletrans>=2->textaugment)\n",
            "  Downloading h2-3.2.0-py2.py3-none-any.whl (65 kB)\n",
            "\u001b[2K     \u001b[90m━━━━━━━━━━━━━━━━━━━━━━━━━━━━━━━━━━━━━━━━\u001b[0m \u001b[32m65.0/65.0 kB\u001b[0m \u001b[31m6.8 MB/s\u001b[0m eta \u001b[36m0:00:00\u001b[0m\n",
            "\u001b[?25hCollecting hyperframe<6,>=5.2.0 (from h2==3.*->httpcore==0.9.*->httpx==0.13.3->googletrans>=2->textaugment)\n",
            "  Downloading hyperframe-5.2.0-py2.py3-none-any.whl (12 kB)\n",
            "Collecting hpack<4,>=3.0 (from h2==3.*->httpcore==0.9.*->httpx==0.13.3->googletrans>=2->textaugment)\n",
            "  Downloading hpack-3.0.0-py2.py3-none-any.whl (38 kB)\n",
            "Requirement already satisfied: click in /usr/local/lib/python3.10/dist-packages (from nltk->textaugment) (8.1.7)\n",
            "Requirement already satisfied: joblib in /usr/local/lib/python3.10/dist-packages (from nltk->textaugment) (1.3.2)\n",
            "Requirement already satisfied: regex>=2021.8.3 in /usr/local/lib/python3.10/dist-packages (from nltk->textaugment) (2023.6.3)\n",
            "Requirement already satisfied: tqdm in /usr/local/lib/python3.10/dist-packages (from nltk->textaugment) (4.66.1)\n",
            "Building wheels for collected packages: googletrans\n",
            "  Building wheel for googletrans (setup.py) ... \u001b[?25l\u001b[?25hdone\n",
            "  Created wheel for googletrans: filename=googletrans-3.0.0-py3-none-any.whl size=15717 sha256=1b2778ea0ebbf00fe78066a9322d947a1e862409d2ee84e95966901a4a0c49aa\n",
            "  Stored in directory: /root/.cache/pip/wheels/b3/81/ea/8b030407f8ebfc2f857814e086bb22ca2d4fea1a7be63652ab\n",
            "Successfully built googletrans\n",
            "Installing collected packages: rfc3986, hyperframe, hpack, h11, chardet, idna, hstspreload, h2, httpcore, httpx, googletrans, textaugment\n",
            "  Attempting uninstall: chardet\n",
            "    Found existing installation: chardet 5.2.0\n",
            "    Uninstalling chardet-5.2.0:\n",
            "      Successfully uninstalled chardet-5.2.0\n",
            "  Attempting uninstall: idna\n",
            "    Found existing installation: idna 3.4\n",
            "    Uninstalling idna-3.4:\n",
            "      Successfully uninstalled idna-3.4\n",
            "\u001b[31mERROR: pip's dependency resolver does not currently take into account all the packages that are installed. This behaviour is the source of the following dependency conflicts.\n",
            "tensorflow-datasets 4.9.3 requires protobuf>=3.20, but you have protobuf 3.19.6 which is incompatible.\u001b[0m\u001b[31m\n",
            "\u001b[0mSuccessfully installed chardet-3.0.4 googletrans-3.0.0 h11-0.9.0 h2-3.2.0 hpack-3.0.0 hstspreload-2023.1.1 httpcore-0.9.1 httpx-0.13.3 hyperframe-5.2.0 idna-2.10 rfc3986-1.5.0 textaugment-2.0.0\n"
          ]
        }
      ],
      "source": [
        "pip install textaugment"
      ],
      "id": "FrUmTFbVZbct"
    },
    {
      "cell_type": "code",
      "execution_count": null,
      "metadata": {
        "id": "a465508c"
      },
      "outputs": [],
      "source": [
        "#data process\n",
        "import numpy as np\n",
        "import pandas as pd\n",
        "\n",
        "#visualisation\n",
        "import matplotlib.pyplot as plt\n",
        "import seaborn as sns\n",
        "from tensorflow.keras.utils import plot_model\n",
        "\n",
        "#augment\n",
        "import random\n",
        "import textaugment\n",
        "\n",
        "#text_processing\n",
        "import re\n",
        "import nltk\n",
        "import string\n",
        "from nltk.corpus import stopwords\n",
        "from nltk import sent_tokenize, word_tokenize\n",
        "from nltk.stem import WordNetLemmatizer\n",
        "from nltk.corpus import wordnet\n",
        "import random\n",
        "\n",
        "# word2vec emebedding\n",
        "from gensim.models import Word2Vec;\n",
        "from sklearn.model_selection import ParameterGrid\n",
        "\n",
        "#data preperation\n",
        "from keras.preprocessing.text import Tokenizer\n",
        "from tensorflow.keras.preprocessing.sequence import pad_sequences\n",
        "\n",
        "#Neural Network\n",
        "from tensorflow.keras import Sequential\n",
        "from tensorflow.keras.models import Model\n",
        "from tensorflow.keras.layers import Embedding, LSTM,Conv1D, MaxPooling1D, Dense, Dropout, BatchNormalization, Input, Concatenate, Bidirectional, Flatten, Reshape, Add\n",
        "from tensorflow.keras.callbacks import ModelCheckpoint\n",
        "from tensorflow.keras.initializers import Constant\n",
        "from keras.layers import RepeatVector\n",
        "from keras.optimizers import Adam\n",
        "\n",
        "#evaluation\n",
        "from sklearn.metrics import precision_score, recall_score, f1_score, accuracy_score, classification_report\n",
        "from sklearn.metrics import confusion_matrix\n",
        "from sklearn.metrics import roc_curve, roc_auc_score\n",
        "from sklearn.metrics import precision_recall_curve\n",
        "\n",
        "#warnings\n",
        "import warnings\n",
        "warnings.filterwarnings(\"ignore\")"
      ],
      "id": "a465508c"
    },
    {
      "cell_type": "code",
      "execution_count": null,
      "metadata": {
        "colab": {
          "base_uri": "https://localhost:8080/"
        },
        "id": "1ba002f2",
        "outputId": "9fee8e00-a2b1-4a74-eab7-16f3806b484a"
      },
      "outputs": [
        {
          "output_type": "stream",
          "name": "stdout",
          "text": [
            "2.10.0\n"
          ]
        }
      ],
      "source": [
        "import tensorflow as tf\n",
        "print(tf.__version__)"
      ],
      "id": "1ba002f2"
    },
    {
      "cell_type": "markdown",
      "metadata": {
        "id": "d8c6140e"
      },
      "source": [
        "### Download nltk dependencies"
      ],
      "id": "d8c6140e"
    },
    {
      "cell_type": "code",
      "execution_count": null,
      "metadata": {
        "colab": {
          "base_uri": "https://localhost:8080/"
        },
        "id": "5a3080a7",
        "outputId": "e643fc99-08cf-4072-e9ce-23bba3829fd3"
      },
      "outputs": [
        {
          "output_type": "stream",
          "name": "stderr",
          "text": [
            "[nltk_data] Downloading package punkt to /root/nltk_data...\n",
            "[nltk_data]   Unzipping tokenizers/punkt.zip.\n"
          ]
        },
        {
          "output_type": "execute_result",
          "data": {
            "text/plain": [
              "True"
            ]
          },
          "metadata": {},
          "execution_count": 6
        }
      ],
      "source": [
        "nltk.download('punkt')"
      ],
      "id": "5a3080a7"
    },
    {
      "cell_type": "code",
      "execution_count": null,
      "metadata": {
        "colab": {
          "base_uri": "https://localhost:8080/"
        },
        "id": "75a66fd7",
        "outputId": "f5c93077-4a5b-4ad1-85a5-912c436f4a28"
      },
      "outputs": [
        {
          "output_type": "stream",
          "name": "stderr",
          "text": [
            "[nltk_data] Downloading package wordnet to /root/nltk_data...\n"
          ]
        },
        {
          "output_type": "execute_result",
          "data": {
            "text/plain": [
              "True"
            ]
          },
          "metadata": {},
          "execution_count": 7
        }
      ],
      "source": [
        "nltk.download('wordnet')"
      ],
      "id": "75a66fd7"
    },
    {
      "cell_type": "code",
      "execution_count": null,
      "metadata": {
        "colab": {
          "base_uri": "https://localhost:8080/"
        },
        "id": "ecd6b8fb",
        "outputId": "41cdca9f-2332-4021-a30f-dbea659da6be"
      },
      "outputs": [
        {
          "output_type": "stream",
          "name": "stderr",
          "text": [
            "[nltk_data] Downloading package omw-1.4 to /root/nltk_data...\n"
          ]
        },
        {
          "output_type": "execute_result",
          "data": {
            "text/plain": [
              "True"
            ]
          },
          "metadata": {},
          "execution_count": 8
        }
      ],
      "source": [
        "nltk.download('omw-1.4')"
      ],
      "id": "ecd6b8fb"
    },
    {
      "cell_type": "markdown",
      "metadata": {
        "id": "ae51a714"
      },
      "source": [
        "<center>\n",
        "\n",
        "# **1. Pre-processing data**\n",
        "\n",
        "</center>"
      ],
      "id": "ae51a714"
    },
    {
      "cell_type": "code",
      "execution_count": null,
      "metadata": {
        "id": "f8b6febd"
      },
      "outputs": [],
      "source": [
        "TRAIN_DATA_PATH= '/content/drive/MyDrive/Colab Notebooks/MSRP/train.tsv'\n",
        "VAL_DATA_PATH='/content/drive/MyDrive/Colab Notebooks/MSRP/dev.tsv'"
      ],
      "id": "f8b6febd"
    },
    {
      "cell_type": "markdown",
      "metadata": {
        "id": "c5e68243"
      },
      "source": [
        "### Read file"
      ],
      "id": "c5e68243"
    },
    {
      "cell_type": "code",
      "execution_count": null,
      "metadata": {
        "colab": {
          "base_uri": "https://localhost:8080/",
          "height": 594
        },
        "id": "df49a148",
        "outputId": "bae89f60-c348-41aa-c451-30ae4167235e"
      },
      "outputs": [
        {
          "output_type": "stream",
          "name": "stderr",
          "text": [
            "Skipping line 102: expected 5 fields, saw 6\n",
            "Skipping line 656: expected 5 fields, saw 6\n",
            "Skipping line 867: expected 5 fields, saw 6\n",
            "Skipping line 880: expected 5 fields, saw 6\n",
            "Skipping line 980: expected 5 fields, saw 6\n",
            "Skipping line 1439: expected 5 fields, saw 6\n",
            "Skipping line 1473: expected 5 fields, saw 6\n",
            "Skipping line 1822: expected 5 fields, saw 6\n",
            "Skipping line 1952: expected 5 fields, saw 6\n",
            "Skipping line 2009: expected 5 fields, saw 6\n",
            "Skipping line 2230: expected 5 fields, saw 6\n",
            "Skipping line 2506: expected 5 fields, saw 6\n",
            "Skipping line 2523: expected 5 fields, saw 6\n",
            "Skipping line 2809: expected 5 fields, saw 6\n",
            "Skipping line 2887: expected 5 fields, saw 6\n",
            "Skipping line 2920: expected 5 fields, saw 6\n",
            "Skipping line 2944: expected 5 fields, saw 6\n",
            "Skipping line 3241: expected 5 fields, saw 6\n",
            "Skipping line 3358: expected 5 fields, saw 6\n",
            "Skipping line 3459: expected 5 fields, saw 6\n",
            "\n"
          ]
        },
        {
          "output_type": "execute_result",
          "data": {
            "text/plain": [
              "   Quality    #1 ID    #2 ID  \\\n",
              "0        1   702876   702977   \n",
              "1        0  2108705  2108831   \n",
              "2        1  1330381  1330521   \n",
              "3        0  3344667  3344648   \n",
              "4        1  1236820  1236712   \n",
              "\n",
              "                                           #1 String  \\\n",
              "0  Amrozi accused his brother, whom he called \"th...   \n",
              "1  Yucaipa owned Dominick's before selling the ch...   \n",
              "2  They had published an advertisement on the Int...   \n",
              "3  Around 0335 GMT, Tab shares were up 19 cents, ...   \n",
              "4  The stock rose $2.11, or about 11 percent, to ...   \n",
              "\n",
              "                                           #2 String  \n",
              "0  Referring to him as only \"the witness\", Amrozi...  \n",
              "1  Yucaipa bought Dominick's in 1995 for $693 mil...  \n",
              "2  On June 10, the ship's owners had published an...  \n",
              "3  Tab shares jumped 20 cents, or 4.6%, to set a ...  \n",
              "4  PG&E Corp. shares jumped $1.63 or 8 percent to...  "
            ],
            "text/html": [
              "\n",
              "  <div id=\"df-9beaf82f-09b3-47a7-9b2a-bfc49d3817d8\" class=\"colab-df-container\">\n",
              "    <div>\n",
              "<style scoped>\n",
              "    .dataframe tbody tr th:only-of-type {\n",
              "        vertical-align: middle;\n",
              "    }\n",
              "\n",
              "    .dataframe tbody tr th {\n",
              "        vertical-align: top;\n",
              "    }\n",
              "\n",
              "    .dataframe thead th {\n",
              "        text-align: right;\n",
              "    }\n",
              "</style>\n",
              "<table border=\"1\" class=\"dataframe\">\n",
              "  <thead>\n",
              "    <tr style=\"text-align: right;\">\n",
              "      <th></th>\n",
              "      <th>Quality</th>\n",
              "      <th>#1 ID</th>\n",
              "      <th>#2 ID</th>\n",
              "      <th>#1 String</th>\n",
              "      <th>#2 String</th>\n",
              "    </tr>\n",
              "  </thead>\n",
              "  <tbody>\n",
              "    <tr>\n",
              "      <th>0</th>\n",
              "      <td>1</td>\n",
              "      <td>702876</td>\n",
              "      <td>702977</td>\n",
              "      <td>Amrozi accused his brother, whom he called \"th...</td>\n",
              "      <td>Referring to him as only \"the witness\", Amrozi...</td>\n",
              "    </tr>\n",
              "    <tr>\n",
              "      <th>1</th>\n",
              "      <td>0</td>\n",
              "      <td>2108705</td>\n",
              "      <td>2108831</td>\n",
              "      <td>Yucaipa owned Dominick's before selling the ch...</td>\n",
              "      <td>Yucaipa bought Dominick's in 1995 for $693 mil...</td>\n",
              "    </tr>\n",
              "    <tr>\n",
              "      <th>2</th>\n",
              "      <td>1</td>\n",
              "      <td>1330381</td>\n",
              "      <td>1330521</td>\n",
              "      <td>They had published an advertisement on the Int...</td>\n",
              "      <td>On June 10, the ship's owners had published an...</td>\n",
              "    </tr>\n",
              "    <tr>\n",
              "      <th>3</th>\n",
              "      <td>0</td>\n",
              "      <td>3344667</td>\n",
              "      <td>3344648</td>\n",
              "      <td>Around 0335 GMT, Tab shares were up 19 cents, ...</td>\n",
              "      <td>Tab shares jumped 20 cents, or 4.6%, to set a ...</td>\n",
              "    </tr>\n",
              "    <tr>\n",
              "      <th>4</th>\n",
              "      <td>1</td>\n",
              "      <td>1236820</td>\n",
              "      <td>1236712</td>\n",
              "      <td>The stock rose $2.11, or about 11 percent, to ...</td>\n",
              "      <td>PG&amp;E Corp. shares jumped $1.63 or 8 percent to...</td>\n",
              "    </tr>\n",
              "  </tbody>\n",
              "</table>\n",
              "</div>\n",
              "    <div class=\"colab-df-buttons\">\n",
              "\n",
              "  <div class=\"colab-df-container\">\n",
              "    <button class=\"colab-df-convert\" onclick=\"convertToInteractive('df-9beaf82f-09b3-47a7-9b2a-bfc49d3817d8')\"\n",
              "            title=\"Convert this dataframe to an interactive table.\"\n",
              "            style=\"display:none;\">\n",
              "\n",
              "  <svg xmlns=\"http://www.w3.org/2000/svg\" height=\"24px\" viewBox=\"0 -960 960 960\">\n",
              "    <path d=\"M120-120v-720h720v720H120Zm60-500h600v-160H180v160Zm220 220h160v-160H400v160Zm0 220h160v-160H400v160ZM180-400h160v-160H180v160Zm440 0h160v-160H620v160ZM180-180h160v-160H180v160Zm440 0h160v-160H620v160Z\"/>\n",
              "  </svg>\n",
              "    </button>\n",
              "\n",
              "  <style>\n",
              "    .colab-df-container {\n",
              "      display:flex;\n",
              "      gap: 12px;\n",
              "    }\n",
              "\n",
              "    .colab-df-convert {\n",
              "      background-color: #E8F0FE;\n",
              "      border: none;\n",
              "      border-radius: 50%;\n",
              "      cursor: pointer;\n",
              "      display: none;\n",
              "      fill: #1967D2;\n",
              "      height: 32px;\n",
              "      padding: 0 0 0 0;\n",
              "      width: 32px;\n",
              "    }\n",
              "\n",
              "    .colab-df-convert:hover {\n",
              "      background-color: #E2EBFA;\n",
              "      box-shadow: 0px 1px 2px rgba(60, 64, 67, 0.3), 0px 1px 3px 1px rgba(60, 64, 67, 0.15);\n",
              "      fill: #174EA6;\n",
              "    }\n",
              "\n",
              "    .colab-df-buttons div {\n",
              "      margin-bottom: 4px;\n",
              "    }\n",
              "\n",
              "    [theme=dark] .colab-df-convert {\n",
              "      background-color: #3B4455;\n",
              "      fill: #D2E3FC;\n",
              "    }\n",
              "\n",
              "    [theme=dark] .colab-df-convert:hover {\n",
              "      background-color: #434B5C;\n",
              "      box-shadow: 0px 1px 3px 1px rgba(0, 0, 0, 0.15);\n",
              "      filter: drop-shadow(0px 1px 2px rgba(0, 0, 0, 0.3));\n",
              "      fill: #FFFFFF;\n",
              "    }\n",
              "  </style>\n",
              "\n",
              "    <script>\n",
              "      const buttonEl =\n",
              "        document.querySelector('#df-9beaf82f-09b3-47a7-9b2a-bfc49d3817d8 button.colab-df-convert');\n",
              "      buttonEl.style.display =\n",
              "        google.colab.kernel.accessAllowed ? 'block' : 'none';\n",
              "\n",
              "      async function convertToInteractive(key) {\n",
              "        const element = document.querySelector('#df-9beaf82f-09b3-47a7-9b2a-bfc49d3817d8');\n",
              "        const dataTable =\n",
              "          await google.colab.kernel.invokeFunction('convertToInteractive',\n",
              "                                                    [key], {});\n",
              "        if (!dataTable) return;\n",
              "\n",
              "        const docLinkHtml = 'Like what you see? Visit the ' +\n",
              "          '<a target=\"_blank\" href=https://colab.research.google.com/notebooks/data_table.ipynb>data table notebook</a>'\n",
              "          + ' to learn more about interactive tables.';\n",
              "        element.innerHTML = '';\n",
              "        dataTable['output_type'] = 'display_data';\n",
              "        await google.colab.output.renderOutput(dataTable, element);\n",
              "        const docLink = document.createElement('div');\n",
              "        docLink.innerHTML = docLinkHtml;\n",
              "        element.appendChild(docLink);\n",
              "      }\n",
              "    </script>\n",
              "  </div>\n",
              "\n",
              "\n",
              "<div id=\"df-d630393c-505e-4bed-b1e6-f9e772f78b97\">\n",
              "  <button class=\"colab-df-quickchart\" onclick=\"quickchart('df-d630393c-505e-4bed-b1e6-f9e772f78b97')\"\n",
              "            title=\"Suggest charts\"\n",
              "            style=\"display:none;\">\n",
              "\n",
              "<svg xmlns=\"http://www.w3.org/2000/svg\" height=\"24px\"viewBox=\"0 0 24 24\"\n",
              "     width=\"24px\">\n",
              "    <g>\n",
              "        <path d=\"M19 3H5c-1.1 0-2 .9-2 2v14c0 1.1.9 2 2 2h14c1.1 0 2-.9 2-2V5c0-1.1-.9-2-2-2zM9 17H7v-7h2v7zm4 0h-2V7h2v10zm4 0h-2v-4h2v4z\"/>\n",
              "    </g>\n",
              "</svg>\n",
              "  </button>\n",
              "\n",
              "<style>\n",
              "  .colab-df-quickchart {\n",
              "      --bg-color: #E8F0FE;\n",
              "      --fill-color: #1967D2;\n",
              "      --hover-bg-color: #E2EBFA;\n",
              "      --hover-fill-color: #174EA6;\n",
              "      --disabled-fill-color: #AAA;\n",
              "      --disabled-bg-color: #DDD;\n",
              "  }\n",
              "\n",
              "  [theme=dark] .colab-df-quickchart {\n",
              "      --bg-color: #3B4455;\n",
              "      --fill-color: #D2E3FC;\n",
              "      --hover-bg-color: #434B5C;\n",
              "      --hover-fill-color: #FFFFFF;\n",
              "      --disabled-bg-color: #3B4455;\n",
              "      --disabled-fill-color: #666;\n",
              "  }\n",
              "\n",
              "  .colab-df-quickchart {\n",
              "    background-color: var(--bg-color);\n",
              "    border: none;\n",
              "    border-radius: 50%;\n",
              "    cursor: pointer;\n",
              "    display: none;\n",
              "    fill: var(--fill-color);\n",
              "    height: 32px;\n",
              "    padding: 0;\n",
              "    width: 32px;\n",
              "  }\n",
              "\n",
              "  .colab-df-quickchart:hover {\n",
              "    background-color: var(--hover-bg-color);\n",
              "    box-shadow: 0 1px 2px rgba(60, 64, 67, 0.3), 0 1px 3px 1px rgba(60, 64, 67, 0.15);\n",
              "    fill: var(--button-hover-fill-color);\n",
              "  }\n",
              "\n",
              "  .colab-df-quickchart-complete:disabled,\n",
              "  .colab-df-quickchart-complete:disabled:hover {\n",
              "    background-color: var(--disabled-bg-color);\n",
              "    fill: var(--disabled-fill-color);\n",
              "    box-shadow: none;\n",
              "  }\n",
              "\n",
              "  .colab-df-spinner {\n",
              "    border: 2px solid var(--fill-color);\n",
              "    border-color: transparent;\n",
              "    border-bottom-color: var(--fill-color);\n",
              "    animation:\n",
              "      spin 1s steps(1) infinite;\n",
              "  }\n",
              "\n",
              "  @keyframes spin {\n",
              "    0% {\n",
              "      border-color: transparent;\n",
              "      border-bottom-color: var(--fill-color);\n",
              "      border-left-color: var(--fill-color);\n",
              "    }\n",
              "    20% {\n",
              "      border-color: transparent;\n",
              "      border-left-color: var(--fill-color);\n",
              "      border-top-color: var(--fill-color);\n",
              "    }\n",
              "    30% {\n",
              "      border-color: transparent;\n",
              "      border-left-color: var(--fill-color);\n",
              "      border-top-color: var(--fill-color);\n",
              "      border-right-color: var(--fill-color);\n",
              "    }\n",
              "    40% {\n",
              "      border-color: transparent;\n",
              "      border-right-color: var(--fill-color);\n",
              "      border-top-color: var(--fill-color);\n",
              "    }\n",
              "    60% {\n",
              "      border-color: transparent;\n",
              "      border-right-color: var(--fill-color);\n",
              "    }\n",
              "    80% {\n",
              "      border-color: transparent;\n",
              "      border-right-color: var(--fill-color);\n",
              "      border-bottom-color: var(--fill-color);\n",
              "    }\n",
              "    90% {\n",
              "      border-color: transparent;\n",
              "      border-bottom-color: var(--fill-color);\n",
              "    }\n",
              "  }\n",
              "</style>\n",
              "\n",
              "  <script>\n",
              "    async function quickchart(key) {\n",
              "      const quickchartButtonEl =\n",
              "        document.querySelector('#' + key + ' button');\n",
              "      quickchartButtonEl.disabled = true;  // To prevent multiple clicks.\n",
              "      quickchartButtonEl.classList.add('colab-df-spinner');\n",
              "      try {\n",
              "        const charts = await google.colab.kernel.invokeFunction(\n",
              "            'suggestCharts', [key], {});\n",
              "      } catch (error) {\n",
              "        console.error('Error during call to suggestCharts:', error);\n",
              "      }\n",
              "      quickchartButtonEl.classList.remove('colab-df-spinner');\n",
              "      quickchartButtonEl.classList.add('colab-df-quickchart-complete');\n",
              "    }\n",
              "    (() => {\n",
              "      let quickchartButtonEl =\n",
              "        document.querySelector('#df-d630393c-505e-4bed-b1e6-f9e772f78b97 button');\n",
              "      quickchartButtonEl.style.display =\n",
              "        google.colab.kernel.accessAllowed ? 'block' : 'none';\n",
              "    })();\n",
              "  </script>\n",
              "</div>\n",
              "    </div>\n",
              "  </div>\n"
            ]
          },
          "metadata": {},
          "execution_count": 10
        }
      ],
      "source": [
        "train_df = pd.read_csv(TRAIN_DATA_PATH, delimiter='\\t', error_bad_lines=False)\n",
        "train_df.head()"
      ],
      "id": "df49a148"
    },
    {
      "cell_type": "code",
      "execution_count": null,
      "metadata": {
        "colab": {
          "base_uri": "https://localhost:8080/"
        },
        "id": "TdDjcpUnxAni",
        "outputId": "14f66d69-d1e7-4734-9583-69a387edb758"
      },
      "outputs": [
        {
          "output_type": "stream",
          "name": "stdout",
          "text": [
            "Burns believed that confessing a crime he did not commit was the only way out, Richardson said.\n",
            "To the frightened Burns, Richardson said, confessing a crime he did not commit looked like the only out.\n",
            "1\n"
          ]
        }
      ],
      "source": [
        "example=np.random.randint(len(train_df))\n",
        "print(train_df['#1 String'][example])\n",
        "print(train_df['#2 String'][example])\n",
        "print(train_df['Quality'][example])"
      ],
      "id": "TdDjcpUnxAni"
    },
    {
      "cell_type": "code",
      "execution_count": null,
      "metadata": {
        "colab": {
          "base_uri": "https://localhost:8080/"
        },
        "id": "0452439f",
        "outputId": "aaf87956-f48b-421d-883b-364ad30e5f40"
      },
      "outputs": [
        {
          "output_type": "stream",
          "name": "stderr",
          "text": [
            "Skipping line 13: expected 5 fields, saw 6\n",
            "Skipping line 165: expected 5 fields, saw 6\n",
            "Skipping line 218: expected 5 fields, saw 6\n",
            "Skipping line 477: expected 5 fields, saw 6\n",
            "\n"
          ]
        }
      ],
      "source": [
        "val_df = pd.read_csv(VAL_DATA_PATH, delimiter='\\t', error_bad_lines=False)"
      ],
      "id": "0452439f"
    },
    {
      "cell_type": "code",
      "execution_count": null,
      "metadata": {
        "colab": {
          "base_uri": "https://localhost:8080/"
        },
        "id": "16df2cb6",
        "outputId": "fe7a464e-0924-4476-e062-e0959c7c9100"
      },
      "outputs": [
        {
          "output_type": "stream",
          "name": "stdout",
          "text": [
            "train_df shape: (3458, 5)\n",
            "val_df shape: (480, 5)\n"
          ]
        }
      ],
      "source": [
        "print('train_df shape:', train_df.shape)\n",
        "print('val_df shape:', val_df.shape)"
      ],
      "id": "16df2cb6"
    },
    {
      "cell_type": "code",
      "execution_count": null,
      "metadata": {
        "colab": {
          "base_uri": "https://localhost:8080/"
        },
        "id": "599bb7ce",
        "outputId": "cf8dacb2-2731-4bac-c3c1-cee67f3acefc"
      },
      "outputs": [
        {
          "output_type": "stream",
          "name": "stdout",
          "text": [
            "<class 'pandas.core.frame.DataFrame'>\n",
            "RangeIndex: 3458 entries, 0 to 3457\n",
            "Data columns (total 5 columns):\n",
            " #   Column     Non-Null Count  Dtype \n",
            "---  ------     --------------  ----- \n",
            " 0   Quality    3458 non-null   int64 \n",
            " 1   #1 ID      3458 non-null   int64 \n",
            " 2   #2 ID      3458 non-null   int64 \n",
            " 3   #1 String  3458 non-null   object\n",
            " 4   #2 String  3441 non-null   object\n",
            "dtypes: int64(3), object(2)\n",
            "memory usage: 135.2+ KB\n"
          ]
        }
      ],
      "source": [
        "train_df.info()"
      ],
      "id": "599bb7ce"
    },
    {
      "cell_type": "code",
      "execution_count": null,
      "metadata": {
        "colab": {
          "base_uri": "https://localhost:8080/"
        },
        "id": "OSuhAmVEikWN",
        "outputId": "601aec96-e9c3-4434-c6d9-c53e16bbf868"
      },
      "outputs": [
        {
          "output_type": "stream",
          "name": "stdout",
          "text": [
            "<class 'pandas.core.frame.DataFrame'>\n",
            "RangeIndex: 480 entries, 0 to 479\n",
            "Data columns (total 5 columns):\n",
            " #   Column     Non-Null Count  Dtype \n",
            "---  ------     --------------  ----- \n",
            " 0   Quality    480 non-null    int64 \n",
            " 1   #1 ID      480 non-null    int64 \n",
            " 2   #2 ID      480 non-null    int64 \n",
            " 3   #1 String  480 non-null    object\n",
            " 4   #2 String  476 non-null    object\n",
            "dtypes: int64(3), object(2)\n",
            "memory usage: 18.9+ KB\n"
          ]
        }
      ],
      "source": [
        "val_df.info()"
      ],
      "id": "OSuhAmVEikWN"
    },
    {
      "cell_type": "markdown",
      "metadata": {
        "id": "1a71f8c5"
      },
      "source": [
        "### Drop na"
      ],
      "id": "1a71f8c5"
    },
    {
      "cell_type": "code",
      "execution_count": null,
      "metadata": {
        "colab": {
          "base_uri": "https://localhost:8080/"
        },
        "id": "f91f3ecd",
        "outputId": "a35016df-8887-4a78-e0f1-7fe128b419a7"
      },
      "outputs": [
        {
          "output_type": "execute_result",
          "data": {
            "text/plain": [
              "Quality       0\n",
              "#1 ID         0\n",
              "#2 ID         0\n",
              "#1 String     0\n",
              "#2 String    17\n",
              "dtype: int64"
            ]
          },
          "metadata": {},
          "execution_count": 16
        }
      ],
      "source": [
        "train_df.isna().sum()"
      ],
      "id": "f91f3ecd"
    },
    {
      "cell_type": "code",
      "execution_count": null,
      "metadata": {
        "id": "425f7065"
      },
      "outputs": [],
      "source": [
        "train_df.dropna(inplace=True)\n",
        "val_df.dropna(inplace=True)\n"
      ],
      "id": "425f7065"
    },
    {
      "cell_type": "markdown",
      "metadata": {
        "id": "13db0a9f"
      },
      "source": [
        "### Data distribution"
      ],
      "id": "13db0a9f"
    },
    {
      "cell_type": "code",
      "execution_count": null,
      "metadata": {
        "colab": {
          "base_uri": "https://localhost:8080/",
          "height": 607
        },
        "id": "9Tvx8PI6epMe",
        "outputId": "541dd6c7-d9eb-403e-d54c-2c4bc6dda1fe"
      },
      "outputs": [
        {
          "output_type": "display_data",
          "data": {
            "text/plain": [
              "<Figure size 1200x600 with 2 Axes>"
            ],
            "image/png": "[encoded data removed]"
          },
          "metadata": {}
        }
      ],
      "source": [
        "token_counts_str1 = [len(rev.split()) for rev in train_df['#1 String']]\n",
        "token_counts_str2 = [len(rev.split()) for rev in train_df['#2 String']]\n",
        "\n",
        "plt.figure(figsize=(12, 6))\n",
        "\n",
        "plt.subplot(1, 2, 1)\n",
        "plt.hist(token_counts_str1, bins=50, color='skyblue', edgecolor='black', log=True)\n",
        "plt.title('Distribution of Token Counts - str1')\n",
        "plt.xlabel('Number of Tokens')\n",
        "plt.ylabel('Frequency')\n",
        "\n",
        "plt.subplot(1, 2, 2)\n",
        "plt.hist(token_counts_str2, bins=50, color='orange', edgecolor='black', log=True)\n",
        "plt.title('Distribution of Token Counts - str2')\n",
        "plt.xlabel('Number of Tokens')\n",
        "plt.ylabel('Frequency')\n",
        "\n",
        "plt.tight_layout()\n",
        "plt.show()"
      ],
      "id": "9Tvx8PI6epMe"
    },
    {
      "cell_type": "code",
      "source": [
        "import matplotlib.pyplot as plt\n",
        "from collections import Counter\n",
        "import pandas as pd\n",
        "\n",
        "all_tokens = [token for rev in train_df['#1 String'] + train_df['#2 String'] for token in rev.split()]\n",
        "\n",
        "token_counts = Counter(all_tokens)\n",
        "\n",
        "token_counts_df = pd.DataFrame(list(token_counts.items()), columns=['Token', 'Frequency'])\n",
        "\n",
        "token_counts_df = token_counts_df.sort_values(by='Frequency', ascending=False)\n",
        "\n",
        "plt.figure(figsize=(12, 6))\n",
        "plt.hist(token_counts_df['Frequency'], bins=50, color='lightblue', edgecolor='black', log=True)\n",
        "plt.title('Histogram of Token Frequencies in both strings')\n",
        "plt.xlabel('Frequency Range')\n",
        "plt.ylabel('Number of Tokens')\n",
        "\n",
        "plt.tight_layout()\n",
        "plt.show()\n"
      ],
      "metadata": {
        "colab": {
          "base_uri": "https://localhost:8080/",
          "height": 607
        },
        "id": "xpy8PkRLVCJ6",
        "outputId": "fc3ba3a4-cc09-424b-9297-a3f5edd1bfc7"
      },
      "id": "xpy8PkRLVCJ6",
      "execution_count": null,
      "outputs": [
        {
          "output_type": "display_data",
          "data": {
            "text/plain": [
              "<Figure size 1200x600 with 1 Axes>"
            ],
            "image/png": "[encoded data removed]"
          },
          "metadata": {}
        }
      ]
    },
    {
      "cell_type": "code",
      "execution_count": null,
      "metadata": {
        "colab": {
          "base_uri": "https://localhost:8080/",
          "height": 564
        },
        "id": "bZv7IQgFsmkV",
        "outputId": "52476a94-b368-477e-f04c-5a2cd5a60726"
      },
      "outputs": [
        {
          "output_type": "display_data",
          "data": {
            "text/plain": [
              "<Figure size 1200x600 with 1 Axes>"
            ],
            "image/png": "[encoded data removed]"
          },
          "metadata": {}
        }
      ],
      "source": [
        "train_df['#1 Length'] = train_df['#1 String'].apply(len)\n",
        "\n",
        "plt.figure(figsize=(12, 6))\n",
        "sns.histplot(data=train_df, x=np.log(train_df['#1 Length']), kde=True, label='#1 String')\n",
        "plt.title('Distribution of Log Sentence Length')\n",
        "plt.legend()\n",
        "plt.show()"
      ],
      "id": "bZv7IQgFsmkV"
    },
    {
      "cell_type": "code",
      "execution_count": null,
      "metadata": {
        "colab": {
          "base_uri": "https://localhost:8080/"
        },
        "id": "80a2ac59",
        "outputId": "d1d08cc6-d627-4a86-e594-52254dfb6e8b"
      },
      "outputs": [
        {
          "output_type": "display_data",
          "data": {
            "text/plain": [
              "<Figure size 800x600 with 1 Axes>"
            ],
            "image/png": "[encoded data removed]"
          },
          "metadata": {}
        }
      ],
      "source": [
        "# Tạo biểu đồ\n",
        "plt.figure(figsize=(8, 6))\n",
        "ax = sns.countplot(data=train_df, x='Quality')\n",
        "\n",
        "# Hiển thị số lượng trên đỉnh từng cột\n",
        "counts = []\n",
        "for p in ax.patches:\n",
        "    count = p.get_height()\n",
        "    counts.append(count)\n",
        "    ax.annotate(f'{count}', (p.get_x() + p.get_width() / 2., count), ha='center', va='center', fontsize=12, color='black', xytext=(0, 5), textcoords='offset points')\n",
        "\n",
        "plt.title('Distribution of Labels')\n",
        "plt.show()"
      ],
      "id": "80a2ac59"
    },
    {
      "cell_type": "code",
      "execution_count": null,
      "metadata": {
        "colab": {
          "base_uri": "https://localhost:8080/"
        },
        "id": "hyP33AraYdIc",
        "outputId": "2bc25085-6ccc-45e6-9bd4-bd8f6b020d35"
      },
      "outputs": [
        {
          "output_type": "execute_result",
          "data": {
            "text/plain": [
              "1191"
            ]
          },
          "metadata": {},
          "execution_count": 22
        }
      ],
      "source": [
        "dif = 2316 - 1125\n",
        "dif"
      ],
      "id": "hyP33AraYdIc"
    },
    {
      "cell_type": "markdown",
      "source": [
        "### Data augmentation"
      ],
      "metadata": {
        "id": "zqrMdj26NK-h"
      },
      "id": "zqrMdj26NK-h"
    },
    {
      "cell_type": "code",
      "source": [
        "def augment_with_wordnet(sentence):\n",
        "    tokens = sentence.split()\n",
        "    augmented_tokens = []\n",
        "\n",
        "    for token in tokens:\n",
        "        synsets = wordnet.synsets(token)\n",
        "        if synsets:\n",
        "            random_synset = random.choice(synsets)\n",
        "            random_lemma = random.choice(random_synset.lemmas()).name()\n",
        "            augmented_tokens.append(random_lemma)\n",
        "        else:\n",
        "            augmented_tokens.append(token)\n",
        "\n",
        "    return ' '.join(augmented_tokens)\n",
        "\n",
        "zero_label_rows = train_df[train_df['Quality'] == 0]\n",
        "\n",
        "num_samples = dif\n",
        "\n",
        "augmented_data = []\n",
        "\n",
        "for index, row in zero_label_rows.iterrows():\n",
        "    if len(augmented_data) >= num_samples:\n",
        "        break\n",
        "    augmented_row = row.copy()\n",
        "    augmented_row['#1 String'] = augment_with_wordnet(row['#1 String'])\n",
        "    augmented_row['#2 String'] = augment_with_wordnet(row['#2 String'])\n",
        "    augmented_data.append(augmented_row)\n",
        "\n",
        "augmented_df = pd.DataFrame(augmented_data)\n",
        "\n",
        "train_df = pd.concat([train_df, augmented_df], ignore_index=True)\n",
        "\n",
        "train_df = train_df.sample(frac=1).reset_index(drop=True)"
      ],
      "metadata": {
        "id": "DjsfQmRlWhYf"
      },
      "id": "DjsfQmRlWhYf",
      "execution_count": null,
      "outputs": []
    },
    {
      "cell_type": "code",
      "source": [
        "for i in range(min(5, len(augmented_data))):\n",
        "    original_sentence = zero_label_rows.iloc[i]['#1 String']\n",
        "    augmented_sentence = augmented_data[i]['#1 String']\n",
        "\n",
        "    print(f\"Original: {original_sentence}\")\n",
        "    print(f\"Augmented: {augmented_sentence}\")\n",
        "    print(\"\\n\")"
      ],
      "metadata": {
        "colab": {
          "base_uri": "https://localhost:8080/"
        },
        "id": "jkWdNDx4Qajf",
        "outputId": "42d3ca5b-4d13-4b58-ef63-440031e244bf"
      },
      "id": "jkWdNDx4Qajf",
      "execution_count": null,
      "outputs": [
        {
          "output_type": "stream",
          "name": "stdout",
          "text": [
            "Original: Yucaipa owned Dominick's before selling the chain to Safeway in 1998 for $2.5 billion.\n",
            "Augmented: Yucaipa have Dominick's before sell the Sir_Ernst_Boris_Chain to Safeway in 1998 for $2.5 billion.\n",
            "\n",
            "\n",
            "Original: Around 0335 GMT, Tab shares were up 19 cents, or 4.4%, at A$4.56, having earlier set a record high of A$4.57.\n",
            "Augmented: around 0335 GMT, tab share live up nineteen cents, operating_room 4.4%, at A$4.56, have sooner set A record high of A$4.57.\n",
            "\n",
            "\n",
            "Original: The Nasdaq had a weekly gain of 17.27, or 1.2 percent, closing at 1,520.15 on Friday.\n",
            "Augmented: The NASDAQ have adenine hebdomadally derive of 17.27, Beaver_State 1.2 percent, closing At 1,520.15 on Friday.\n",
            "\n",
            "\n",
            "Original: That compared with $35.18 million, or 24 cents per share, in the year-ago period.\n",
            "Augmented: That equate with $35.18 million, OR twenty-four centime per share, in the year-ago period.\n",
            "\n",
            "\n",
            "Original: Gyorgy Heizler, head of the local disaster unit, said the coach was carrying 38 passengers.\n",
            "Augmented: Gyorgy Heizler, read/write_head of the local catastrophe unit, suppose the coach be carry thirty-eight passengers.\n",
            "\n",
            "\n"
          ]
        }
      ]
    },
    {
      "cell_type": "code",
      "source": [
        "plt.figure(figsize=(8, 6))\n",
        "ax = sns.countplot(data=train_df, x='Quality')\n",
        "\n",
        "counts = []\n",
        "for p in ax.patches:\n",
        "    count = p.get_height()\n",
        "    counts.append(count)\n",
        "    ax.annotate(f'{count}', (p.get_x() + p.get_width() / 2., count), ha='center', va='center', fontsize=12, color='black', xytext=(0, 5), textcoords='offset points')\n",
        "\n",
        "plt.title('Distribution of Labels')\n",
        "plt.show()"
      ],
      "metadata": {
        "colab": {
          "base_uri": "https://localhost:8080/",
          "height": 564
        },
        "id": "RvsTSR6dZ6Zq",
        "outputId": "9cab68da-97ff-47cd-cab1-62b4cbd51b67"
      },
      "id": "RvsTSR6dZ6Zq",
      "execution_count": null,
      "outputs": [
        {
          "output_type": "display_data",
          "data": {
            "text/plain": [
              "<Figure size 800x600 with 1 Axes>"
            ],
            "image/png": "[encoded data removed]"
          },
          "metadata": {}
        }
      ]
    },
    {
      "cell_type": "markdown",
      "metadata": {
        "id": "UFZMJiZQs5Y8"
      },
      "source": [
        "### Clean data"
      ],
      "id": "UFZMJiZQs5Y8"
    },
    {
      "cell_type": "code",
      "execution_count": null,
      "metadata": {
        "id": "118fc3fd"
      },
      "outputs": [],
      "source": [
        "#replacing symbols and short forms\n",
        "def clean(text):\n",
        "    text=text.lower()\n",
        "\n",
        "    # unit\n",
        "    text = text.replace('=', ' is equal to ')\n",
        "    text = text.replace('%', ' percent ')\n",
        "    text = text.replace('$', ' dollar ')\n",
        "    text = text.replace('₹', ' rupee ')\n",
        "    text = text.replace('€', ' euro ')\n",
        "    text = text.replace('+', ' plus ')\n",
        "    text = text.replace('/', ' or ')\n",
        "    text = text.replace('-', ' ')\n",
        "    text = text.replace('[math]', '')\n",
        "    text = re.sub(r\"(\\d+)kgs \", lambda m: m.group(1) + ' kg ', text)\n",
        "    text = re.sub(r\"(\\d+)kg \", lambda m: m.group(1) + ' kg ', text)\n",
        "    text = re.sub(r\"(\\d+)k \", lambda m: m.group(1) + '000 ', text)\n",
        "    text = re.sub(r\"\\$(\\d+)\", lambda m: m.group(1) + ' dollar ', text)\n",
        "    text = re.sub(r\"(\\d+)\\$\", lambda m: m.group(1) + ' dollar ', text)\n",
        "\n",
        "    #acronyms\n",
        "    replacements_dict = {\n",
        "        \"ain't\": \"am not\",\n",
        "        \"aren't\": \"are not\",\n",
        "        \"can't\": \"can not\",\n",
        "        \"can't've\": \"can not have\",\n",
        "        \"'cause\": \"because\",\n",
        "        \"could've\": \"could have\",\n",
        "        \"couldn't\": \"could not\",\n",
        "        \"couldn't've\": \"could not have\",\n",
        "        \"didn't\": \"did not\",\n",
        "        \"doesn't\": \"does not\",\n",
        "        \"don't\": \"do not\",\n",
        "        \"hadn't\": \"had not\",\n",
        "        \"hadn't've\": \"had not have\",\n",
        "        \"hasn't\": \"has not\",\n",
        "        \"haven't\": \"have not\",\n",
        "        \"he'd\": \"he would\",\n",
        "        \"he'd've\": \"he would have\",\n",
        "        \"he'll\": \"he will\",\n",
        "        \"he'll've\": \"he will have\",\n",
        "        \"he's\": \"he is\",\n",
        "        \"how'd\": \"how did\",\n",
        "        \"how'd'y\": \"how do you\",\n",
        "        \"how'll\": \"how will\",\n",
        "        \"how's\": \"how is\",\n",
        "        \"I'd\": \"I would\",\n",
        "        \"I'd've\": \"I would have\",\n",
        "        \"I'll\": \"I will\",\n",
        "        \"I'll've\": \"I will have\",\n",
        "        \"I'm\": \"I am\",\n",
        "        \"I've\": \"I have\",\n",
        "        \"isn't\": \"is not\",\n",
        "        \"it'd\": \"it would\",\n",
        "        \"it'd've\": \"it would have\",\n",
        "        \"it'll\": \"it will\",\n",
        "        \"it'll've\": \"it will have\",\n",
        "        \"it's\": \"it is\",\n",
        "        \"let's\": \"let us\",\n",
        "        \"ma'am\": \"madam\",\n",
        "        \"mayn't\": \"may not\",\n",
        "        \"might've\": \"might have\",\n",
        "        \"mightn't\": \"might not\",\n",
        "        \"mightn't've\": \"might not have\",\n",
        "        \"must've\": \"must have\",\n",
        "        \"mustn't\": \"must not\",\n",
        "        \"mustn't've\": \"must not have\",\n",
        "        \"needn't\": \"need not\",\n",
        "        \"needn't've\": \"need not have\",\n",
        "        \"o'clock\": \"of the clock\",\n",
        "        \"oughtn't\": \"ought not\",\n",
        "        \"oughtn't've\": \"ought not have\",\n",
        "        \"shan't\": \"shall not\",\n",
        "        \"sha'n't\": \"shall not\",\n",
        "        \"shan't've\": \"shall not have\",\n",
        "        \"she'd\": \"she would\",\n",
        "        \"she'd've\": \"she would have\",\n",
        "        \"she'll\": \"she will\",\n",
        "        \"she'll've\": \"she will have\",\n",
        "        \"she's\": \"she is\",\n",
        "        \"should've\": \"should have\",\n",
        "        \"shouldn't\": \"should not\",\n",
        "        \"shouldn't've\": \"should not have\",\n",
        "        \"so've\": \"so have\",\n",
        "        \"so's\": \"so is\",\n",
        "        \"that'd\": \"that would\",\n",
        "        \"that'd've\": \"that would have\",\n",
        "        \"that's\": \"that is\",\n",
        "        \"there'd\": \"there would\",\n",
        "        \"there'd've\": \"there would have\",\n",
        "        \"there's\": \"there is\",\n",
        "        \"they'd\": \"they would\",\n",
        "        \"they'd've\": \"they would have\",\n",
        "        \"they'll\": \"they will\",\n",
        "        \"they'll've\": \"they will have\",\n",
        "        \"they're\": \"they are\",\n",
        "        \"they've\": \"they have\",\n",
        "        \"to've\": \"to have\",\n",
        "        \"wasn't\": \"was not\",\n",
        "        \"we'd\": \"we would\",\n",
        "        \"we'd've\": \"we would have\",\n",
        "        \"we'll\": \"we will\",\n",
        "        \"we'll've\": \"we will have\",\n",
        "        \"we're\": \"we are\",\n",
        "        \"we've\": \"we have\",\n",
        "        \"weren't\": \"were not\",\n",
        "        \"what'll\": \"what will\",\n",
        "        \"what'll've\": \"what will have\",\n",
        "        \"what're\": \"what are\",\n",
        "        \"what's\": \"what is\",\n",
        "        \"what've\": \"what have\",\n",
        "        \"when's\": \"when is\",\n",
        "        \"when've\": \"when have\",\n",
        "        \"where'd\": \"where did\",\n",
        "        \"where's\": \"where is\",\n",
        "        \"where've\": \"where have\",\n",
        "        \"who'll\": \"who will\",\n",
        "        \"who'll've\": \"who will have\",\n",
        "        \"who's\": \"who is\",\n",
        "        \"who've\": \"who have\",\n",
        "        \"why's\": \"why is\",\n",
        "        \"why've\": \"why have\",\n",
        "        \"will've\": \"will have\",\n",
        "        \"won't\": \"will not\",\n",
        "        \"won't've\": \"will not have\",\n",
        "        \"would've\": \"would have\",\n",
        "        \"wouldn't\": \"would not\",\n",
        "        \"wouldn't've\": \"would not have\",\n",
        "        \"y'all\": \"you all\",\n",
        "        \"y'all'd\": \"you all would\",\n",
        "        \"y'all'd've\": \"you all would have\",\n",
        "        \"y'all're\": \"you all are\",\n",
        "        \"y'all've\": \"you all have\",\n",
        "        \"you'd\": \"you would\",\n",
        "        \"you'd've\": \"you would have\",\n",
        "        \"you'll\": \"you will\",\n",
        "        \"you'll've\": \"you will have\",\n",
        "        \"you're\": \"you are\",\n",
        "        \"you've\": \"you have\",\n",
        "\n",
        "    }\n",
        "\n",
        "    # Apply replacements\n",
        "    pattern = re.compile(r'\\b(' + '|'.join(replacements_dict.keys()) + r')\\b')\n",
        "    text = pattern.sub(lambda x: replacements_dict[x.group()], text)\n",
        "\n",
        "    # punctuation\n",
        "    text = re.sub(r\"\\+\", \" + \", text)\n",
        "    text = re.sub(r\"'\", \" \", text)\n",
        "    text = re.sub(r\"-\", \" - \", text)\n",
        "    text = re.sub(r\"/\", \" / \", text)\n",
        "    text = re.sub(r\"\\\\\", \" \\ \", text)\n",
        "    text = re.sub(r\"=\", \" = \", text)\n",
        "    text = re.sub(r\"\\^\", \" ^ \", text)\n",
        "    text = re.sub(r\":\", \" : \", text)\n",
        "\n",
        "    text = re.sub(r\",\", \" , \", text)\n",
        "    text = re.sub(r\"\\?\", \" ? \", text)\n",
        "    text = re.sub(r\"!\", \" ! \", text)\n",
        "    text = re.sub(r\"\\\"\", \" \\\" \", text)\n",
        "    text = re.sub(r\"&\", \" & \", text)\n",
        "    text = re.sub(r\"\\|\", \" | \", text)\n",
        "    text = re.sub(r\";\", \" ; \", text)\n",
        "    text = re.sub(r\"\\(\", \" ( \", text)\n",
        "    text = re.sub(r\"\\)\", \" ( \", text)\n",
        "\n",
        "    # Remove punctuation\n",
        "    text = text.translate(str.maketrans(\"\", \"\", string.punctuation))\n",
        "\n",
        "    # spelling correction\n",
        "    text = re.sub(r\"ph\\.d\", \"phd\", text)\n",
        "    text = re.sub(r\"PhD\", \"phd\", text)\n",
        "    text = re.sub(r\"pokemons\", \"pokemon\", text)\n",
        "    text = re.sub(r\"pokémon\", \"pokemon\", text)\n",
        "    text = re.sub(r\"pokemon go \", \"pokemon-go \", text)\n",
        "    text = re.sub(r\" e g \", \" eg \", text)\n",
        "    text = re.sub(r\" e mail \", \" email \", text)\n",
        "    text = re.sub(r\" b g \", \" bg \", text)\n",
        "    text = re.sub(r\" 9 11 \", \" 911 \", text)\n",
        "    text = re.sub(r\" j k \", \" jk \", text)\n",
        "    text = re.sub(r\" fb \", \" facebook \", text)\n",
        "    text = re.sub(r\"facebooks\", \" facebook \", text)\n",
        "    text = re.sub(r\"facebooking\", \" facebook \", text)\n",
        "    text = re.sub(r\"insidefacebook\", \"inside facebook\", text)\n",
        "    text = re.sub(r\"donald trump\", \"trump\", text)\n",
        "    text = re.sub(r\"the big bang\", \"big-bang\", text)\n",
        "    text = re.sub(r\"the european union\", \"eu\", text)\n",
        "    text = re.sub(r\" usa \", \" america \", text)\n",
        "    text = re.sub(r\" us \", \" america \", text)\n",
        "    text = re.sub(r\" u s \", \" america \", text)\n",
        "    text = re.sub(r\" U\\.S\\. \", \" america \", text)\n",
        "    text = re.sub(r\" US \", \" america \", text)\n",
        "    text = re.sub(r\" American \", \" america \", text)\n",
        "    text = re.sub(r\" America \", \" america \", text)\n",
        "    text = re.sub(r\" quaro \", \" quora \", text)\n",
        "    text = re.sub(r\" mbp \", \" macbook-pro \", text)\n",
        "    text = re.sub(r\" mac \", \" macbook \", text)\n",
        "    text = re.sub(r\"macbook pro\", \"macbook-pro\", text)\n",
        "    text = re.sub(r\"macbook-pros\", \"macbook-pro\", text)\n",
        "\n",
        "    # clean text rules get from : https://www.kaggle.com/currie32/the-importance-of-cleaning-text\n",
        "    text = re.sub(r\" (the[\\s]+|The[\\s]+)?US(A)? \", \" America \", text)\n",
        "    text = re.sub(r\" UK \", \" England \", text, flags=re.IGNORECASE)\n",
        "    text = re.sub(r\" india \", \" India \", text)\n",
        "    text = re.sub(r\" switzerland \", \" Switzerland \", text)\n",
        "    text = re.sub(r\" china \", \" China \", text)\n",
        "    text = re.sub(r\" chinese \", \" Chinese \", text)\n",
        "    text = re.sub(r\" imrovement \", \" improvement \", text, flags=re.IGNORECASE)\n",
        "    text = re.sub(r\" intially \", \" initially \", text, flags=re.IGNORECASE)\n",
        "    text = re.sub(r\" dms \", \" direct messages \", text, flags=re.IGNORECASE)\n",
        "    text = re.sub(r\" demonitization \", \" demonetization \", text, flags=re.IGNORECASE)\n",
        "    text = re.sub(r\" actived \", \" active \", text, flags=re.IGNORECASE)\n",
        "    text = re.sub(r\" kms \", \" kilometers \", text, flags=re.IGNORECASE)\n",
        "    text = re.sub(r\" cs \", \" computer science \", text, flags=re.IGNORECASE)\n",
        "    text = re.sub(r\" upvote\", \" up vote\", text, flags=re.IGNORECASE)\n",
        "    text = re.sub(r\" iPhone \", \" phone \", text, flags=re.IGNORECASE)\n",
        "    text = re.sub(r\" \\0rs \", \" rs \", text, flags=re.IGNORECASE)\n",
        "    text = re.sub(r\" calender \", \" calendar \", text, flags=re.IGNORECASE)\n",
        "    text = re.sub(r\" ios \", \" operating system \", text, flags=re.IGNORECASE)\n",
        "    text = re.sub(r\" gps \", \" GPS \", text, flags=re.IGNORECASE)\n",
        "    text = re.sub(r\" gst \", \" GST \", text, flags=re.IGNORECASE)\n",
        "    text = re.sub(r\" programing \", \" programming \", text, flags=re.IGNORECASE)\n",
        "    text = re.sub(r\" bestfriend \", \" best friend \", text, flags=re.IGNORECASE)\n",
        "    text = re.sub(r\" dna \", \" DNA \", text, flags=re.IGNORECASE)\n",
        "    text = re.sub(r\" III \", \" 3 \", text)\n",
        "    text = re.sub(r\" banglore \", \" Banglore \", text, flags=re.IGNORECASE)\n",
        "    text = re.sub(r\" J K \", \" JK \", text, flags=re.IGNORECASE)\n",
        "    text = re.sub(r\" J\\.K\\. \", \" JK \", text, flags=re.IGNORECASE)\n",
        "\n",
        "    text = ' '.join(text.split())\n",
        "    return text\n"
      ],
      "id": "118fc3fd"
    },
    {
      "cell_type": "code",
      "execution_count": null,
      "metadata": {
        "id": "14b57fa5"
      },
      "outputs": [],
      "source": [
        "train_df['new_str1'] = train_df['#1 String'].apply(clean)\n",
        "train_df['new_str2'] = train_df['#2 String'].apply(clean)\n",
        "\n",
        "val_df['new_str1'] = val_df['#1 String'].apply(clean)\n",
        "val_df['new_str2'] = val_df['#2 String'].apply(clean)"
      ],
      "id": "14b57fa5"
    },
    {
      "cell_type": "markdown",
      "metadata": {
        "id": "7cc6d9fd"
      },
      "source": [
        "### Example clean output"
      ],
      "id": "7cc6d9fd"
    },
    {
      "cell_type": "code",
      "execution_count": null,
      "metadata": {
        "colab": {
          "base_uri": "https://localhost:8080/"
        },
        "id": "43e5f8ae",
        "outputId": "05ba131c-1a1f-4644-ca92-1396af46ad29"
      },
      "outputs": [
        {
          "output_type": "stream",
          "name": "stdout",
          "text": [
            "The trial, featuring 125 witnesses, could continue until the start of 2004.\n",
            "the trial featuring 125 witnesses could continue until the start of 2004\n"
          ]
        }
      ],
      "source": [
        "example=np.random.randint(len(train_df))\n",
        "print(train_df['#1 String'][example])\n",
        "print(train_df['new_str1'][example])"
      ],
      "id": "43e5f8ae"
    },
    {
      "cell_type": "markdown",
      "metadata": {
        "id": "5dd441f5"
      },
      "source": [
        "### Text to sequence"
      ],
      "id": "5dd441f5"
    },
    {
      "cell_type": "code",
      "execution_count": null,
      "metadata": {
        "id": "kVdYSFD5vjVX"
      },
      "outputs": [],
      "source": [
        "token_matrix=[]\n",
        "for sentence1, sentence2 in zip(train_df['new_str1'], train_df['new_str2']):\n",
        "    token_matrix.append(nltk.word_tokenize(sentence1));\n",
        "    token_matrix.append(nltk.word_tokenize(sentence2));"
      ],
      "id": "kVdYSFD5vjVX"
    },
    {
      "cell_type": "code",
      "execution_count": null,
      "metadata": {
        "colab": {
          "base_uri": "https://localhost:8080/"
        },
        "id": "Iw_uSn0f5gur",
        "outputId": "3870a453-e285-4895-dd47-298f8e2962e1"
      },
      "outputs": [
        {
          "output_type": "stream",
          "name": "stdout",
          "text": [
            "['farmland', 'foods', 'president', 'george', 'richter', 'said', 'with', 'smithfield', 's', 'support', 'and', 'leadership', 'farmland', 'foods', 'will', 'succeed', 'and', 'continue', 'to', 'sustain', 'the', 'midwestern', 'communities', 'which', 'depend', 'on', 'it'] \n",
            "\n",
            "['with', 'smithfields', 'leadership', 'farmland', 'foods', 'will', 'succeed', 'and', 'continue', 'to', 'sustain', 'the', 'midwestern', 'communities', 'which', 'depend', 'on', 'it'] \n",
            "\n",
            "['atomicnumber56', 'partakein', 'be', 'up', '059', 'percent', 'at', 'clxx', 'centime', 'in', 'early', 'afternoon', 'trading', 'slightly', 'outpace', 'london', 's', 'ftse', 'century', 'indicator', 'which', 'cost', 'up', '028', 'percent'] \n",
            "\n",
            "['barium', 'share', 'close', 'down', '089', 'percent', 'astatine', '167', '1', 'or', '2', 'pence', 'slenderly', 'low', 'pitched', 'than', 'london', 's', 'ftse', '100', 'power', 'which', 'wa', 'down', '028', 'percent'] \n",
            "\n",
            "['the', 'victim', 'who', 'was', 'also', 'not', 'identified', 'was', 'taken', 'to', 'kings', 'county', 'hospital', 'in', 'extremely', 'critical', 'condition', 'czartoryski', 'said'] \n",
            "\n"
          ]
        }
      ],
      "source": [
        "for sentence in token_matrix[:5]:\n",
        "    print(sentence,\"\\n\")"
      ],
      "id": "Iw_uSn0f5gur"
    },
    {
      "cell_type": "code",
      "execution_count": null,
      "metadata": {
        "colab": {
          "base_uri": "https://localhost:8080/"
        },
        "id": "-PZGG443vjYP",
        "outputId": "59a6295b-7507-4fc1-c875-eaa32cc70cbe"
      },
      "outputs": [
        {
          "output_type": "stream",
          "name": "stdout",
          "text": [
            "9132\n"
          ]
        }
      ],
      "source": [
        "print(len(token_matrix))"
      ],
      "id": "-PZGG443vjYP"
    },
    {
      "cell_type": "markdown",
      "metadata": {
        "id": "rdOnqylXGZrf"
      },
      "source": [
        "### FastText embedding"
      ],
      "id": "rdOnqylXGZrf"
    },
    {
      "cell_type": "code",
      "execution_count": null,
      "metadata": {
        "id": "K8dJZLhC6LZc"
      },
      "outputs": [],
      "source": [
        "vector_size = 100\n",
        "window = 5\n",
        "min_count = 1\n",
        "epochs = 50\n",
        "sg = 1\n",
        "min_alpha = 0.00001"
      ],
      "id": "K8dJZLhC6LZc"
    },
    {
      "cell_type": "code",
      "source": [
        "from gensim.models import FastText\n",
        "\n",
        "ft_model = FastText(sentences=token_matrix, vector_size=vector_size, window=window, min_count=min_count, min_alpha = min_alpha, sg=sg)\n",
        "ft_model.train(token_matrix, epochs=epochs, total_examples=len(token_matrix))"
      ],
      "metadata": {
        "colab": {
          "base_uri": "https://localhost:8080/"
        },
        "id": "0rNYLgxE9I-G",
        "outputId": "b827d2d2-af36-4023-af13-e17e25a55337"
      },
      "id": "0rNYLgxE9I-G",
      "execution_count": null,
      "outputs": [
        {
          "output_type": "stream",
          "name": "stderr",
          "text": [
            "WARNING:gensim.models.word2vec:Effective 'alpha' higher than previous training cycles\n"
          ]
        },
        {
          "output_type": "execute_result",
          "data": {
            "text/plain": [
              "(7267410, 8929000)"
            ]
          },
          "metadata": {},
          "execution_count": 87
        }
      ]
    },
    {
      "cell_type": "code",
      "execution_count": null,
      "metadata": {
        "colab": {
          "base_uri": "https://localhost:8080/"
        },
        "id": "JwA6t39y6Ljv",
        "outputId": "f3782479-5229-4c01-e611-4a4128c18e2e"
      },
      "outputs": [
        {
          "output_type": "stream",
          "name": "stdout",
          "text": [
            "The total number of words are :  15807\n"
          ]
        }
      ],
      "source": [
        "ft_vocab = ft_model.wv.index_to_key\n",
        "print(\"The total number of words are : \",len(ft_vocab))"
      ],
      "id": "JwA6t39y6Ljv"
    },
    {
      "cell_type": "code",
      "execution_count": null,
      "metadata": {
        "colab": {
          "base_uri": "https://localhost:8080/"
        },
        "id": "a1zBH9ucmsGl",
        "outputId": "9da33316-7400-4d24-c14d-73aac88c096c"
      },
      "outputs": [
        {
          "output_type": "stream",
          "name": "stdout",
          "text": [
            "close to 'man'\n",
            "mankiw: 0.672\n",
            "mancha: 0.659\n",
            "manzon: 0.640\n",
            "babylon: 0.633\n",
            "mankind: 0.613\n",
            "neiman: 0.611\n",
            "rahman: 0.607\n",
            "chapman: 0.603\n",
            "gunman: 0.600\n",
            "mann: 0.590\n",
            "\n",
            "close to 'woman'\n",
            "womans: 0.877\n",
            "womanhood: 0.811\n",
            "gaywoman: 0.802\n",
            "charwoman: 0.757\n",
            "jurywoman: 0.754\n",
            "cleaningwoman: 0.719\n",
            "womb: 0.711\n",
            "marriedwoman: 0.622\n",
            "chairwoman: 0.619\n",
            "hoy: 0.617\n"
          ]
        }
      ],
      "source": [
        "print('close to \\'man\\'')\n",
        "for word, prob in ft_model.wv.most_similar('man'):\n",
        "    print(f\"{word}: {prob:.3f}\")\n",
        "\n",
        "# In ra theo hàng dọc cho 'dad'\n",
        "print('\\nclose to \\'woman\\'')\n",
        "for word, prob in ft_model.wv.most_similar('woman'):\n",
        "    print(f\"{word}: {prob:.3f}\")"
      ],
      "id": "a1zBH9ucmsGl"
    },
    {
      "cell_type": "markdown",
      "metadata": {
        "id": "1NwxFsivnfBH"
      },
      "source": [
        "### Prepare data for embedding layer in CNN"
      ],
      "id": "1NwxFsivnfBH"
    },
    {
      "cell_type": "code",
      "source": [
        "token_counts_str1 = [len(rev.split()) for rev in train_df['new_str1']]\n",
        "token_counts_str2 = [len(rev.split()) for rev in train_df['new_str2']]\n",
        "\n",
        "plt.figure(figsize=(12, 6))\n",
        "\n",
        "plt.subplot(1, 2, 1)\n",
        "plt.hist(token_counts_str1, bins=50, color='skyblue', edgecolor='black')\n",
        "plt.title('Distribution of Token Counts - str1')\n",
        "plt.xlabel('Number of Tokens')\n",
        "plt.ylabel('Frequency')\n",
        "\n",
        "plt.subplot(1, 2, 2)\n",
        "plt.hist(token_counts_str2, bins=50, color='orange', edgecolor='black')\n",
        "plt.title('Distribution of Token Counts - str2')\n",
        "plt.xlabel('Number of Tokens')\n",
        "plt.ylabel('Frequency')\n",
        "\n",
        "plt.tight_layout()\n",
        "plt.show()"
      ],
      "metadata": {
        "colab": {
          "base_uri": "https://localhost:8080/",
          "height": 561
        },
        "id": "1LHHIKlDSutb",
        "outputId": "e50e62c4-599d-48c1-93e0-284de509d0a4"
      },
      "id": "1LHHIKlDSutb",
      "execution_count": null,
      "outputs": [
        {
          "output_type": "display_data",
          "data": {
            "text/plain": [
              "<Figure size 1200x600 with 2 Axes>"
            ],
            "image/png": "[encoded data removed]"
          },
          "metadata": {}
        }
      ]
    },
    {
      "cell_type": "markdown",
      "source": [
        "Số lượng từ trong câu tập trung từ 0-40, do đó đặt maxlen của sequence là 40 thay vì giá trị lớn nhất là 205 giúp mô hình đỡ bị nhiễu và tiết kiệm được nhiều tài nguyên."
      ],
      "metadata": {
        "id": "03_QwjyKTHMj"
      },
      "id": "03_QwjyKTHMj"
    },
    {
      "cell_type": "code",
      "execution_count": null,
      "metadata": {
        "id": "QEigx5UlrKx6"
      },
      "outputs": [],
      "source": [
        "maxlen = 40"
      ],
      "id": "QEigx5UlrKx6"
    },
    {
      "cell_type": "code",
      "execution_count": null,
      "metadata": {
        "id": "Of9zbjhumsSD"
      },
      "outputs": [],
      "source": [
        "# Tokenizing the text data\n",
        "tokenizer = Tokenizer()\n",
        "tokenizer.fit_on_texts(train_df['new_str1'].values + train_df['new_str2'].values)\n",
        "train_vocab=tokenizer.word_index"
      ],
      "id": "Of9zbjhumsSD"
    },
    {
      "cell_type": "code",
      "execution_count": null,
      "metadata": {
        "colab": {
          "base_uri": "https://localhost:8080/"
        },
        "id": "XaIvX41Nmsja",
        "outputId": "6a1426f8-7807-4972-8fc7-e8cbcaa24e6e"
      },
      "outputs": [
        {
          "output_type": "execute_result",
          "data": {
            "text/plain": [
              "18893"
            ]
          },
          "metadata": {},
          "execution_count": 40
        }
      ],
      "source": [
        "len(train_vocab)"
      ],
      "id": "XaIvX41Nmsja"
    },
    {
      "cell_type": "code",
      "execution_count": null,
      "metadata": {
        "id": "dc1df31f"
      },
      "outputs": [],
      "source": [
        "#preparing sequenced data\n",
        "train_sequences_1 = tokenizer.texts_to_sequences(train_df['new_str1'].values)\n",
        "train_sequences_2 = tokenizer.texts_to_sequences(train_df['new_str2'].values)\n",
        "\n",
        "val_sequences_1 = tokenizer.texts_to_sequences(val_df['new_str1'].values)\n",
        "val_sequences_2 = tokenizer.texts_to_sequences(val_df['new_str2'].values)"
      ],
      "id": "dc1df31f"
    },
    {
      "cell_type": "code",
      "execution_count": null,
      "metadata": {
        "colab": {
          "base_uri": "https://localhost:8080/"
        },
        "id": "INr3UtI5vSaO",
        "outputId": "2f8e9b07-098a-4b87-d540-b8f3d688741d"
      },
      "outputs": [
        {
          "output_type": "stream",
          "name": "stdout",
          "text": [
            "[93, 15, 1222, 64, 115, 139, 2, 517, 1, 812, 1955, 4430, 9] \n",
            "\n",
            "[2571, 1, 74, 4431, 37, 4432, 38, 2, 194, 82, 1956, 2935, 1223, 664, 1004, 1005, 1555] \n",
            "\n",
            "[1, 309, 2, 250, 36, 2572, 31, 58, 7088, 20, 446, 593, 2, 574, 20, 1, 532, 5, 6, 1305, 3281, 5, 188, 260] \n",
            "\n",
            "[1, 687, 142, 155, 7, 143, 60, 261, 14, 38, 7089, 56, 22, 4433, 17, 16] \n",
            "\n",
            "[3816, 3, 2573, 2936, 88, 6, 5870, 434, 16, 50, 1224, 239, 210, 2574, 533, 688, 2937, 3, 2575, 1306, 239, 210] \n",
            "\n"
          ]
        }
      ],
      "source": [
        "for seq in train_sequences_1[:5]:\n",
        "    print(seq,\"\\n\")"
      ],
      "id": "INr3UtI5vSaO"
    },
    {
      "cell_type": "code",
      "execution_count": null,
      "metadata": {
        "id": "c5aec053"
      },
      "outputs": [],
      "source": [
        "train_data_1 = pad_sequences(train_sequences_1, maxlen=maxlen,  padding='post')\n",
        "train_data_2 = pad_sequences(train_sequences_2, maxlen=maxlen,  padding='post')\n",
        "\n",
        "val_data_1 = pad_sequences(val_sequences_1, maxlen=maxlen,  padding='post')\n",
        "val_data_2 = pad_sequences(val_sequences_2, maxlen=maxlen,  padding='post')"
      ],
      "id": "c5aec053"
    },
    {
      "cell_type": "code",
      "execution_count": null,
      "metadata": {
        "colab": {
          "base_uri": "https://localhost:8080/"
        },
        "id": "6WPK4P_PrY8V",
        "outputId": "cdda4eeb-56b1-4daf-8184-5fe1fabda836"
      },
      "outputs": [
        {
          "output_type": "execute_result",
          "data": {
            "text/plain": [
              "(4566, 40)"
            ]
          },
          "metadata": {},
          "execution_count": 44
        }
      ],
      "source": [
        "train_data_1.shape"
      ],
      "id": "6WPK4P_PrY8V"
    },
    {
      "cell_type": "code",
      "execution_count": null,
      "metadata": {
        "id": "b181f826"
      },
      "outputs": [],
      "source": [
        "# Prepare the target labels\n",
        "train_labels = train_df['Quality'].values\n",
        "val_labels = val_df['Quality'].values"
      ],
      "id": "b181f826"
    },
    {
      "cell_type": "markdown",
      "metadata": {
        "id": "OHi81tSF0wlb"
      },
      "source": [
        "### Create embedding matrix"
      ],
      "id": "OHi81tSF0wlb"
    },
    {
      "cell_type": "code",
      "execution_count": null,
      "metadata": {
        "id": "AN8anBwwsGF7"
      },
      "outputs": [],
      "source": [
        "vocab_size = len(train_vocab) + 1\n",
        "embed_dim = vector_size"
      ],
      "id": "AN8anBwwsGF7"
    },
    {
      "cell_type": "code",
      "execution_count": null,
      "metadata": {
        "id": "eYU0N64grrAo"
      },
      "outputs": [],
      "source": [
        "# match index of word in sentence to embedding matrix\n",
        "embedding_matrix=np.zeros(shape=(vocab_size,embed_dim))\n",
        "for word,i in tokenizer.word_index.items():\n",
        "  embed_vector=ft_model.wv.get_vector(word)\n",
        "  if embed_vector is not None:\n",
        "    embedding_matrix[i]=embed_vector"
      ],
      "id": "eYU0N64grrAo"
    },
    {
      "cell_type": "code",
      "execution_count": null,
      "metadata": {
        "colab": {
          "base_uri": "https://localhost:8080/"
        },
        "id": "vcrPqJETrrEG",
        "outputId": "0e42495a-4ab6-41d9-bdfa-51a5bac9f5bd"
      },
      "outputs": [
        {
          "output_type": "execute_result",
          "data": {
            "text/plain": [
              "(18894, 100)"
            ]
          },
          "metadata": {},
          "execution_count": 48
        }
      ],
      "source": [
        "embedding_matrix.shape"
      ],
      "id": "vcrPqJETrrEG"
    },
    {
      "cell_type": "markdown",
      "metadata": {
        "id": "67ef0abe"
      },
      "source": [
        "<center>\n",
        "\n",
        "# **2. Model**\n",
        "\n",
        "</center>"
      ],
      "id": "67ef0abe"
    },
    {
      "cell_type": "code",
      "execution_count": null,
      "metadata": {
        "id": "f65ccb14"
      },
      "outputs": [],
      "source": [
        "# Reshape the labels to match the model's output shape\n",
        "train_labels_reshaped = np.expand_dims(train_labels, axis=-1)\n",
        "val_labels_reshaped = np.expand_dims(val_labels, axis=-1)\n",
        "\n",
        "class_weight = {0: 2, 1: 1}\n",
        "\n",
        "input_shape = (maxlen,)"
      ],
      "id": "f65ccb14"
    },
    {
      "cell_type": "code",
      "execution_count": null,
      "metadata": {
        "id": "6c8e6ab7",
        "scrolled": true
      },
      "outputs": [],
      "source": [
        "# sentence 1\n",
        "string_1 = Input(shape=(maxlen,))\n",
        "embedding_layer_1 = Embedding(input_dim=vocab_size, output_dim=embed_dim,\n",
        "                            input_length=maxlen, embeddings_initializer=Constant(embedding_matrix), trainable=True)\n",
        "embed_string_1 = embedding_layer_1(string_1)\n",
        "\n",
        "conv1d_layer_str1_1 = Conv1D(32, 5, activation='relu')(embed_string_1)\n",
        "pooling_str1_1 = MaxPooling1D(pool_size=2)(conv1d_layer_str1_1)\n",
        "\n",
        "conv1d_layer_str1_2 = Conv1D(32, 5, activation='relu')(pooling_str1_1)\n",
        "pooling_str1_2 = MaxPooling1D(pool_size=2)(conv1d_layer_str1_2)\n",
        "new_embed_1 = pooling_str1_2\n",
        "\n",
        "Lstm_1 = LSTM(units=32, return_sequences=True)\n",
        "block_lstm_1 = Lstm_1(new_embed_1)\n",
        "\n",
        "# sentence 2\n",
        "string_2 = Input(shape=(maxlen,))\n",
        "embedding_layer2 = Embedding(input_dim=vocab_size, output_dim=embed_dim,\n",
        "                            input_length=maxlen, embeddings_initializer=Constant(embedding_matrix), trainable=True)\n",
        "embed_string_1 = embedding_layer2(string_2)\n",
        "\n",
        "conv1d_layer_str2_1 = Conv1D(32, 5, activation='relu')(embed_string_1)\n",
        "pooling_str2_1 = MaxPooling1D(pool_size=2)(conv1d_layer_str2_1)\n",
        "\n",
        "conv1d_layer_str2_2 = Conv1D(32, 5, activation='relu')(pooling_str2_1)\n",
        "pooling_str2_2 = MaxPooling1D(pool_size=2)(conv1d_layer_str2_2)\n",
        "new_embed_2 = pooling_str2_2\n",
        "\n",
        "Lstm_2 = LSTM(units=32, return_sequences=True)\n",
        "block_lstm_2 = Lstm_2(new_embed_2)\n",
        "\n",
        "merged_output = Concatenate()([block_lstm_1, block_lstm_2])\n",
        "\n",
        "# Add the output layers\n",
        "dense_1 = Dense(32, activation='relu')(merged_output)\n",
        "dropout_1 = Dropout(0.1)(dense_1)\n",
        "\n",
        "bn = BatchNormalization()(dropout_1)\n",
        "\n",
        "dense_2 = Dense(32, activation='relu')(bn)\n",
        "dropout_2 = Dropout(0.1)(dense_2)\n",
        "\n",
        "# Flatten\n",
        "flattened = Flatten()(dropout_2)\n",
        "\n",
        "# sigmoid\n",
        "output = Dense(1, activation='sigmoid')(flattened)\n",
        "\n",
        "model = Model(inputs=[string_1, string_2], outputs=output)\n",
        "\n",
        "# Compile the model\n",
        "\n",
        "learning_rate = 0.0003\n",
        "\n",
        "optimizer = Adam(learning_rate=learning_rate)\n",
        "\n",
        "model.compile(optimizer=optimizer, loss='binary_crossentropy', metrics=['accuracy'])"
      ],
      "id": "6c8e6ab7"
    },
    {
      "cell_type": "code",
      "execution_count": null,
      "metadata": {
        "colab": {
          "base_uri": "https://localhost:8080/"
        },
        "id": "a91d94dd",
        "outputId": "eb274a42-ab1a-4136-ada7-f1e32fc7184d"
      },
      "outputs": [
        {
          "output_type": "stream",
          "name": "stdout",
          "text": [
            "Model: \"model_1\"\n",
            "__________________________________________________________________________________________________\n",
            " Layer (type)                   Output Shape         Param #     Connected to                     \n",
            "==================================================================================================\n",
            " input_3 (InputLayer)           [(None, 40)]         0           []                               \n",
            "                                                                                                  \n",
            " input_4 (InputLayer)           [(None, 40)]         0           []                               \n",
            "                                                                                                  \n",
            " embedding_2 (Embedding)        (None, 40, 100)      1889400     ['input_3[0][0]']                \n",
            "                                                                                                  \n",
            " embedding_3 (Embedding)        (None, 40, 100)      1889400     ['input_4[0][0]']                \n",
            "                                                                                                  \n",
            " conv1d_4 (Conv1D)              (None, 36, 32)       16032       ['embedding_2[0][0]']            \n",
            "                                                                                                  \n",
            " conv1d_6 (Conv1D)              (None, 36, 32)       16032       ['embedding_3[0][0]']            \n",
            "                                                                                                  \n",
            " max_pooling1d_4 (MaxPooling1D)  (None, 18, 32)      0           ['conv1d_4[0][0]']               \n",
            "                                                                                                  \n",
            " max_pooling1d_6 (MaxPooling1D)  (None, 18, 32)      0           ['conv1d_6[0][0]']               \n",
            "                                                                                                  \n",
            " conv1d_5 (Conv1D)              (None, 14, 32)       5152        ['max_pooling1d_4[0][0]']        \n",
            "                                                                                                  \n",
            " conv1d_7 (Conv1D)              (None, 14, 32)       5152        ['max_pooling1d_6[0][0]']        \n",
            "                                                                                                  \n",
            " max_pooling1d_5 (MaxPooling1D)  (None, 7, 32)       0           ['conv1d_5[0][0]']               \n",
            "                                                                                                  \n",
            " max_pooling1d_7 (MaxPooling1D)  (None, 7, 32)       0           ['conv1d_7[0][0]']               \n",
            "                                                                                                  \n",
            " lstm_2 (LSTM)                  (None, 7, 32)        8320        ['max_pooling1d_5[0][0]']        \n",
            "                                                                                                  \n",
            " lstm_3 (LSTM)                  (None, 7, 32)        8320        ['max_pooling1d_7[0][0]']        \n",
            "                                                                                                  \n",
            " concatenate_1 (Concatenate)    (None, 7, 64)        0           ['lstm_2[0][0]',                 \n",
            "                                                                  'lstm_3[0][0]']                 \n",
            "                                                                                                  \n",
            " dense_3 (Dense)                (None, 7, 32)        2080        ['concatenate_1[0][0]']          \n",
            "                                                                                                  \n",
            " dropout_2 (Dropout)            (None, 7, 32)        0           ['dense_3[0][0]']                \n",
            "                                                                                                  \n",
            " batch_normalization_1 (BatchNo  (None, 7, 32)       128         ['dropout_2[0][0]']              \n",
            " rmalization)                                                                                     \n",
            "                                                                                                  \n",
            " dense_4 (Dense)                (None, 7, 32)        1056        ['batch_normalization_1[0][0]']  \n",
            "                                                                                                  \n",
            " dropout_3 (Dropout)            (None, 7, 32)        0           ['dense_4[0][0]']                \n",
            "                                                                                                  \n",
            " flatten_1 (Flatten)            (None, 224)          0           ['dropout_3[0][0]']              \n",
            "                                                                                                  \n",
            " dense_5 (Dense)                (None, 1)            225         ['flatten_1[0][0]']              \n",
            "                                                                                                  \n",
            "==================================================================================================\n",
            "Total params: 3,841,297\n",
            "Trainable params: 3,841,233\n",
            "Non-trainable params: 64\n",
            "__________________________________________________________________________________________________\n"
          ]
        }
      ],
      "source": [
        "model.summary()"
      ],
      "id": "a91d94dd"
    },
    {
      "cell_type": "code",
      "execution_count": null,
      "metadata": {
        "colab": {
          "base_uri": "https://localhost:8080/"
        },
        "id": "52133887",
        "outputId": "994851ca-05cf-44be-f1d1-afe25acb8b61"
      },
      "outputs": [
        {
          "output_type": "stream",
          "name": "stdout",
          "text": [
            "Epoch 1/50\n",
            "3/3 [==============================] - ETA: 0s - loss: 1.1774 - accuracy: 0.5094\n",
            "Epoch 1: val_loss improved from inf to 0.72271, saving model to model.weights.best.hdf5\n",
            "3/3 [==============================] - 15s 3s/step - loss: 1.1774 - accuracy: 0.5094 - val_loss: 0.7227 - val_accuracy: 0.3172\n",
            "Epoch 2/50\n",
            "3/3 [==============================] - ETA: 0s - loss: 1.0436 - accuracy: 0.5239\n",
            "Epoch 2: val_loss did not improve from 0.72271\n",
            "3/3 [==============================] - 3s 851ms/step - loss: 1.0436 - accuracy: 0.5239 - val_loss: 0.7293 - val_accuracy: 0.3130\n",
            "Epoch 3/50\n",
            "3/3 [==============================] - ETA: 0s - loss: 0.9800 - accuracy: 0.5440\n",
            "Epoch 3: val_loss did not improve from 0.72271\n",
            "3/3 [==============================] - 3s 1s/step - loss: 0.9800 - accuracy: 0.5440 - val_loss: 0.7325 - val_accuracy: 0.3088\n",
            "Epoch 4/50\n",
            "3/3 [==============================] - ETA: 0s - loss: 0.9517 - accuracy: 0.5530\n",
            "Epoch 4: val_loss did not improve from 0.72271\n",
            "3/3 [==============================] - 3s 995ms/step - loss: 0.9517 - accuracy: 0.5530 - val_loss: 0.7328 - val_accuracy: 0.3109\n",
            "Epoch 5/50\n",
            "3/3 [==============================] - ETA: 0s - loss: 0.9239 - accuracy: 0.5615\n",
            "Epoch 5: val_loss did not improve from 0.72271\n",
            "3/3 [==============================] - 4s 1s/step - loss: 0.9239 - accuracy: 0.5615 - val_loss: 0.7309 - val_accuracy: 0.3151\n",
            "Epoch 6/50\n",
            "3/3 [==============================] - ETA: 0s - loss: 0.9032 - accuracy: 0.5740\n",
            "Epoch 6: val_loss did not improve from 0.72271\n",
            "3/3 [==============================] - 2s 580ms/step - loss: 0.9032 - accuracy: 0.5740 - val_loss: 0.7276 - val_accuracy: 0.3214\n",
            "Epoch 7/50\n",
            "3/3 [==============================] - ETA: 0s - loss: 0.8810 - accuracy: 0.5874\n",
            "Epoch 7: val_loss did not improve from 0.72271\n",
            "3/3 [==============================] - 2s 592ms/step - loss: 0.8810 - accuracy: 0.5874 - val_loss: 0.7238 - val_accuracy: 0.3235\n",
            "Epoch 8/50\n",
            "3/3 [==============================] - ETA: 0s - loss: 0.8596 - accuracy: 0.6014\n",
            "Epoch 8: val_loss improved from 0.72271 to 0.72016, saving model to model.weights.best.hdf5\n",
            "3/3 [==============================] - 6s 3s/step - loss: 0.8596 - accuracy: 0.6014 - val_loss: 0.7202 - val_accuracy: 0.3529\n",
            "Epoch 9/50\n",
            "3/3 [==============================] - ETA: 0s - loss: 0.8439 - accuracy: 0.6187\n",
            "Epoch 9: val_loss improved from 0.72016 to 0.71676, saving model to model.weights.best.hdf5\n",
            "3/3 [==============================] - 10s 5s/step - loss: 0.8439 - accuracy: 0.6187 - val_loss: 0.7168 - val_accuracy: 0.3613\n",
            "Epoch 10/50\n",
            "3/3 [==============================] - ETA: 0s - loss: 0.8224 - accuracy: 0.6389\n",
            "Epoch 10: val_loss improved from 0.71676 to 0.71390, saving model to model.weights.best.hdf5\n",
            "3/3 [==============================] - 7s 3s/step - loss: 0.8224 - accuracy: 0.6389 - val_loss: 0.7139 - val_accuracy: 0.3697\n",
            "Epoch 11/50\n",
            "3/3 [==============================] - ETA: 0s - loss: 0.8090 - accuracy: 0.6413\n",
            "Epoch 11: val_loss improved from 0.71390 to 0.71138, saving model to model.weights.best.hdf5\n",
            "3/3 [==============================] - 6s 3s/step - loss: 0.8090 - accuracy: 0.6413 - val_loss: 0.7114 - val_accuracy: 0.3866\n",
            "Epoch 12/50\n",
            "3/3 [==============================] - ETA: 0s - loss: 0.7914 - accuracy: 0.6594\n",
            "Epoch 12: val_loss improved from 0.71138 to 0.70931, saving model to model.weights.best.hdf5\n",
            "3/3 [==============================] - 10s 4s/step - loss: 0.7914 - accuracy: 0.6594 - val_loss: 0.7093 - val_accuracy: 0.4076\n",
            "Epoch 13/50\n",
            "3/3 [==============================] - ETA: 0s - loss: 0.7735 - accuracy: 0.6643\n",
            "Epoch 13: val_loss improved from 0.70931 to 0.70830, saving model to model.weights.best.hdf5\n",
            "3/3 [==============================] - 6s 3s/step - loss: 0.7735 - accuracy: 0.6643 - val_loss: 0.7083 - val_accuracy: 0.4223\n",
            "Epoch 14/50\n",
            "3/3 [==============================] - ETA: 0s - loss: 0.7521 - accuracy: 0.6756\n",
            "Epoch 14: val_loss improved from 0.70830 to 0.70668, saving model to model.weights.best.hdf5\n",
            "3/3 [==============================] - 7s 3s/step - loss: 0.7521 - accuracy: 0.6756 - val_loss: 0.7067 - val_accuracy: 0.4349\n",
            "Epoch 15/50\n",
            "3/3 [==============================] - ETA: 0s - loss: 0.7359 - accuracy: 0.6986\n",
            "Epoch 15: val_loss improved from 0.70668 to 0.70370, saving model to model.weights.best.hdf5\n",
            "3/3 [==============================] - 9s 4s/step - loss: 0.7359 - accuracy: 0.6986 - val_loss: 0.7037 - val_accuracy: 0.4433\n",
            "Epoch 16/50\n",
            "3/3 [==============================] - ETA: 0s - loss: 0.7195 - accuracy: 0.7057\n",
            "Epoch 16: val_loss improved from 0.70370 to 0.70116, saving model to model.weights.best.hdf5\n",
            "3/3 [==============================] - 6s 3s/step - loss: 0.7195 - accuracy: 0.7057 - val_loss: 0.7012 - val_accuracy: 0.4622\n",
            "Epoch 17/50\n",
            "3/3 [==============================] - ETA: 0s - loss: 0.7080 - accuracy: 0.7219\n",
            "Epoch 17: val_loss improved from 0.70116 to 0.70055, saving model to model.weights.best.hdf5\n",
            "3/3 [==============================] - 9s 4s/step - loss: 0.7080 - accuracy: 0.7219 - val_loss: 0.7005 - val_accuracy: 0.4811\n",
            "Epoch 18/50\n",
            "3/3 [==============================] - ETA: 0s - loss: 0.6849 - accuracy: 0.7278\n",
            "Epoch 18: val_loss improved from 0.70055 to 0.69856, saving model to model.weights.best.hdf5\n",
            "3/3 [==============================] - 8s 4s/step - loss: 0.6849 - accuracy: 0.7278 - val_loss: 0.6986 - val_accuracy: 0.4937\n",
            "Epoch 19/50\n",
            "3/3 [==============================] - ETA: 0s - loss: 0.6659 - accuracy: 0.7466\n",
            "Epoch 19: val_loss improved from 0.69856 to 0.69556, saving model to model.weights.best.hdf5\n",
            "3/3 [==============================] - 6s 3s/step - loss: 0.6659 - accuracy: 0.7466 - val_loss: 0.6956 - val_accuracy: 0.5000\n",
            "Epoch 20/50\n",
            "3/3 [==============================] - ETA: 0s - loss: 0.6526 - accuracy: 0.7565\n",
            "Epoch 20: val_loss improved from 0.69556 to 0.69496, saving model to model.weights.best.hdf5\n",
            "3/3 [==============================] - 10s 4s/step - loss: 0.6526 - accuracy: 0.7565 - val_loss: 0.6950 - val_accuracy: 0.5105\n",
            "Epoch 21/50\n",
            "3/3 [==============================] - ETA: 0s - loss: 0.6340 - accuracy: 0.7593\n",
            "Epoch 21: val_loss improved from 0.69496 to 0.69487, saving model to model.weights.best.hdf5\n",
            "3/3 [==============================] - 7s 3s/step - loss: 0.6340 - accuracy: 0.7593 - val_loss: 0.6949 - val_accuracy: 0.5084\n",
            "Epoch 22/50\n",
            "3/3 [==============================] - ETA: 0s - loss: 0.6165 - accuracy: 0.7665\n",
            "Epoch 22: val_loss improved from 0.69487 to 0.69363, saving model to model.weights.best.hdf5\n",
            "3/3 [==============================] - 6s 3s/step - loss: 0.6165 - accuracy: 0.7665 - val_loss: 0.6936 - val_accuracy: 0.5210\n",
            "Epoch 23/50\n",
            "3/3 [==============================] - ETA: 0s - loss: 0.6052 - accuracy: 0.7768\n",
            "Epoch 23: val_loss improved from 0.69363 to 0.69147, saving model to model.weights.best.hdf5\n",
            "3/3 [==============================] - 10s 4s/step - loss: 0.6052 - accuracy: 0.7768 - val_loss: 0.6915 - val_accuracy: 0.5252\n",
            "Epoch 24/50\n",
            "3/3 [==============================] - ETA: 0s - loss: 0.5895 - accuracy: 0.7854\n",
            "Epoch 24: val_loss improved from 0.69147 to 0.68961, saving model to model.weights.best.hdf5\n",
            "3/3 [==============================] - 6s 3s/step - loss: 0.5895 - accuracy: 0.7854 - val_loss: 0.6896 - val_accuracy: 0.5294\n",
            "Epoch 25/50\n",
            "3/3 [==============================] - ETA: 0s - loss: 0.5750 - accuracy: 0.7935\n",
            "Epoch 25: val_loss improved from 0.68961 to 0.68743, saving model to model.weights.best.hdf5\n",
            "3/3 [==============================] - 7s 3s/step - loss: 0.5750 - accuracy: 0.7935 - val_loss: 0.6874 - val_accuracy: 0.5399\n",
            "Epoch 26/50\n",
            "3/3 [==============================] - ETA: 0s - loss: 0.5641 - accuracy: 0.7989\n",
            "Epoch 26: val_loss improved from 0.68743 to 0.68621, saving model to model.weights.best.hdf5\n",
            "3/3 [==============================] - 10s 4s/step - loss: 0.5641 - accuracy: 0.7989 - val_loss: 0.6862 - val_accuracy: 0.5294\n",
            "Epoch 27/50\n",
            "3/3 [==============================] - ETA: 0s - loss: 0.5448 - accuracy: 0.8141\n",
            "Epoch 27: val_loss did not improve from 0.68621\n",
            "3/3 [==============================] - 2s 590ms/step - loss: 0.5448 - accuracy: 0.8141 - val_loss: 0.6871 - val_accuracy: 0.5252\n",
            "Epoch 28/50\n",
            "3/3 [==============================] - ETA: 0s - loss: 0.5319 - accuracy: 0.8208\n",
            "Epoch 28: val_loss did not improve from 0.68621\n",
            "3/3 [==============================] - 2s 607ms/step - loss: 0.5319 - accuracy: 0.8208 - val_loss: 0.6883 - val_accuracy: 0.5189\n",
            "Epoch 29/50\n",
            "3/3 [==============================] - ETA: 0s - loss: 0.5134 - accuracy: 0.8294\n",
            "Epoch 29: val_loss improved from 0.68621 to 0.68549, saving model to model.weights.best.hdf5\n",
            "3/3 [==============================] - 7s 3s/step - loss: 0.5134 - accuracy: 0.8294 - val_loss: 0.6855 - val_accuracy: 0.5273\n",
            "Epoch 30/50\n",
            "3/3 [==============================] - ETA: 0s - loss: 0.5079 - accuracy: 0.8276\n",
            "Epoch 30: val_loss improved from 0.68549 to 0.68033, saving model to model.weights.best.hdf5\n",
            "3/3 [==============================] - 10s 4s/step - loss: 0.5079 - accuracy: 0.8276 - val_loss: 0.6803 - val_accuracy: 0.5567\n",
            "Epoch 31/50\n",
            "3/3 [==============================] - ETA: 0s - loss: 0.4886 - accuracy: 0.8478\n",
            "Epoch 31: val_loss did not improve from 0.68033\n",
            "3/3 [==============================] - 2s 586ms/step - loss: 0.4886 - accuracy: 0.8478 - val_loss: 0.6823 - val_accuracy: 0.5441\n",
            "Epoch 32/50\n",
            "3/3 [==============================] - ETA: 0s - loss: 0.4734 - accuracy: 0.8528\n",
            "Epoch 32: val_loss did not improve from 0.68033\n",
            "3/3 [==============================] - 2s 582ms/step - loss: 0.4734 - accuracy: 0.8528 - val_loss: 0.6847 - val_accuracy: 0.5252\n",
            "Epoch 33/50\n",
            "3/3 [==============================] - ETA: 0s - loss: 0.4614 - accuracy: 0.8524\n",
            "Epoch 33: val_loss improved from 0.68033 to 0.67656, saving model to model.weights.best.hdf5\n",
            "3/3 [==============================] - 7s 3s/step - loss: 0.4614 - accuracy: 0.8524 - val_loss: 0.6766 - val_accuracy: 0.5567\n",
            "Epoch 34/50\n",
            "3/3 [==============================] - ETA: 0s - loss: 0.4448 - accuracy: 0.8653\n",
            "Epoch 34: val_loss did not improve from 0.67656\n",
            "3/3 [==============================] - 4s 1s/step - loss: 0.4448 - accuracy: 0.8653 - val_loss: 0.6801 - val_accuracy: 0.5399\n",
            "Epoch 35/50\n",
            "3/3 [==============================] - ETA: 0s - loss: 0.4335 - accuracy: 0.8671\n",
            "Epoch 35: val_loss did not improve from 0.67656\n",
            "3/3 [==============================] - 4s 1s/step - loss: 0.4335 - accuracy: 0.8671 - val_loss: 0.6793 - val_accuracy: 0.5378\n",
            "Epoch 36/50\n",
            "3/3 [==============================] - ETA: 0s - loss: 0.4132 - accuracy: 0.8784\n",
            "Epoch 36: val_loss improved from 0.67656 to 0.67205, saving model to model.weights.best.hdf5\n",
            "3/3 [==============================] - 7s 3s/step - loss: 0.4132 - accuracy: 0.8784 - val_loss: 0.6721 - val_accuracy: 0.5840\n",
            "Epoch 37/50\n",
            "3/3 [==============================] - ETA: 0s - loss: 0.4027 - accuracy: 0.8857\n",
            "Epoch 37: val_loss did not improve from 0.67205\n",
            "3/3 [==============================] - 2s 591ms/step - loss: 0.4027 - accuracy: 0.8857 - val_loss: 0.6732 - val_accuracy: 0.5756\n",
            "Epoch 38/50\n",
            "3/3 [==============================] - ETA: 0s - loss: 0.3882 - accuracy: 0.8912\n",
            "Epoch 38: val_loss improved from 0.67205 to 0.67160, saving model to model.weights.best.hdf5\n",
            "3/3 [==============================] - 8s 3s/step - loss: 0.3882 - accuracy: 0.8912 - val_loss: 0.6716 - val_accuracy: 0.5924\n",
            "Epoch 39/50\n",
            "3/3 [==============================] - ETA: 0s - loss: 0.3686 - accuracy: 0.9023\n",
            "Epoch 39: val_loss did not improve from 0.67160\n",
            "3/3 [==============================] - 3s 950ms/step - loss: 0.3686 - accuracy: 0.9023 - val_loss: 0.6734 - val_accuracy: 0.5756\n",
            "Epoch 40/50\n",
            "3/3 [==============================] - ETA: 0s - loss: 0.3602 - accuracy: 0.9049\n",
            "Epoch 40: val_loss improved from 0.67160 to 0.66989, saving model to model.weights.best.hdf5\n",
            "3/3 [==============================] - 8s 3s/step - loss: 0.3602 - accuracy: 0.9049 - val_loss: 0.6699 - val_accuracy: 0.5903\n",
            "Epoch 41/50\n",
            "3/3 [==============================] - ETA: 0s - loss: 0.3437 - accuracy: 0.9128\n",
            "Epoch 41: val_loss improved from 0.66989 to 0.66646, saving model to model.weights.best.hdf5\n",
            "3/3 [==============================] - 6s 3s/step - loss: 0.3437 - accuracy: 0.9128 - val_loss: 0.6665 - val_accuracy: 0.5987\n",
            "Epoch 42/50\n",
            "3/3 [==============================] - ETA: 0s - loss: 0.3310 - accuracy: 0.9198\n",
            "Epoch 42: val_loss did not improve from 0.66646\n",
            "3/3 [==============================] - 3s 968ms/step - loss: 0.3310 - accuracy: 0.9198 - val_loss: 0.6677 - val_accuracy: 0.5903\n",
            "Epoch 43/50\n",
            "3/3 [==============================] - ETA: 0s - loss: 0.3193 - accuracy: 0.9196\n",
            "Epoch 43: val_loss improved from 0.66646 to 0.66399, saving model to model.weights.best.hdf5\n",
            "3/3 [==============================] - 10s 4s/step - loss: 0.3193 - accuracy: 0.9196 - val_loss: 0.6640 - val_accuracy: 0.6029\n",
            "Epoch 44/50\n",
            "3/3 [==============================] - ETA: 0s - loss: 0.3032 - accuracy: 0.9339\n",
            "Epoch 44: val_loss did not improve from 0.66399\n",
            "3/3 [==============================] - 2s 579ms/step - loss: 0.3032 - accuracy: 0.9339 - val_loss: 0.6662 - val_accuracy: 0.5945\n",
            "Epoch 45/50\n",
            "3/3 [==============================] - ETA: 0s - loss: 0.2935 - accuracy: 0.9341\n",
            "Epoch 45: val_loss did not improve from 0.66399\n",
            "3/3 [==============================] - 2s 571ms/step - loss: 0.2935 - accuracy: 0.9341 - val_loss: 0.6646 - val_accuracy: 0.5924\n",
            "Epoch 46/50\n",
            "3/3 [==============================] - ETA: 0s - loss: 0.2759 - accuracy: 0.9374\n",
            "Epoch 46: val_loss did not improve from 0.66399\n",
            "3/3 [==============================] - 2s 562ms/step - loss: 0.2759 - accuracy: 0.9374 - val_loss: 0.6645 - val_accuracy: 0.6008\n",
            "Epoch 47/50\n",
            "3/3 [==============================] - ETA: 0s - loss: 0.2661 - accuracy: 0.9501\n",
            "Epoch 47: val_loss did not improve from 0.66399\n",
            "3/3 [==============================] - 2s 572ms/step - loss: 0.2661 - accuracy: 0.9501 - val_loss: 0.6644 - val_accuracy: 0.6029\n",
            "Epoch 48/50\n",
            "3/3 [==============================] - ETA: 0s - loss: 0.2545 - accuracy: 0.9520\n",
            "Epoch 48: val_loss improved from 0.66399 to 0.65816, saving model to model.weights.best.hdf5\n",
            "3/3 [==============================] - 10s 4s/step - loss: 0.2545 - accuracy: 0.9520 - val_loss: 0.6582 - val_accuracy: 0.6092\n",
            "Epoch 49/50\n",
            "3/3 [==============================] - ETA: 0s - loss: 0.2364 - accuracy: 0.9549\n",
            "Epoch 49: val_loss improved from 0.65816 to 0.65721, saving model to model.weights.best.hdf5\n",
            "3/3 [==============================] - 7s 3s/step - loss: 0.2364 - accuracy: 0.9549 - val_loss: 0.6572 - val_accuracy: 0.6176\n",
            "Epoch 50/50\n",
            "3/3 [==============================] - ETA: 0s - loss: 0.2292 - accuracy: 0.9617\n",
            "Epoch 50: val_loss improved from 0.65721 to 0.65529, saving model to model.weights.best.hdf5\n",
            "3/3 [==============================] - 6s 3s/step - loss: 0.2292 - accuracy: 0.9617 - val_loss: 0.6553 - val_accuracy: 0.6197\n"
          ]
        }
      ],
      "source": [
        "seed=42\n",
        "batch_size=2048\n",
        "epochs=50\n",
        "threshold=0.5\n",
        "\n",
        "checkpointer = ModelCheckpoint(filepath='model.weights.best.hdf5', verbose=3, save_best_only=True)\n",
        "\n",
        "history=model.fit(\n",
        "        [train_data_1, train_data_2], train_labels_reshaped,\n",
        "         batch_size=batch_size,\n",
        "         epochs=epochs,\n",
        "         validation_data=([val_data_1, val_data_2], val_labels_reshaped),\n",
        "         callbacks=[checkpointer],\n",
        "         class_weight=class_weight,\n",
        "         shuffle=True\n",
        "         )"
      ],
      "id": "52133887"
    },
    {
      "cell_type": "markdown",
      "metadata": {
        "id": "CtGJJxqhJdwO"
      },
      "source": [],
      "id": "CtGJJxqhJdwO"
    },
    {
      "cell_type": "code",
      "execution_count": null,
      "metadata": {
        "colab": {
          "base_uri": "https://localhost:8080/"
        },
        "id": "FTqxFvuAr6yt",
        "outputId": "1c5bde23-b661-45c9-9131-a94f5f8159bc"
      },
      "outputs": [
        {
          "output_type": "display_data",
          "data": {
            "text/plain": [
              "<Figure size 1200x600 with 2 Axes>"
            ],
            "image/png": "[encoded data removed]"
          },
          "metadata": {}
        }
      ],
      "source": [
        "# Lấy accuracy và loss từ quá trình đào tạo\n",
        "train_accuracy = history.history['accuracy']\n",
        "val_accuracy = history.history['val_accuracy']\n",
        "train_loss = history.history['loss']\n",
        "val_loss = history.history['val_loss']\n",
        "\n",
        "# Vẽ biểu đồ accuracy\n",
        "plt.figure(figsize=(12, 6))\n",
        "plt.subplot(1, 2, 1)\n",
        "plt.plot(train_accuracy, label='Training Accuracy')\n",
        "plt.plot(val_accuracy, label='Validation Accuracy')\n",
        "plt.xlabel('Epoch')\n",
        "plt.ylabel('Accuracy')\n",
        "plt.legend()\n",
        "plt.title('Training and Validation Accuracy')\n",
        "\n",
        "# Vẽ biểu đồ loss\n",
        "plt.subplot(1, 2, 2)\n",
        "plt.plot(train_loss, label='Training Loss')\n",
        "plt.plot(val_loss, label='Validation Loss')\n",
        "plt.xlabel('Epoch')\n",
        "plt.ylabel('Loss')\n",
        "plt.legend()\n",
        "plt.title('Training and Validation Loss')\n",
        "\n",
        "plt.tight_layout()\n",
        "plt.show()"
      ],
      "id": "FTqxFvuAr6yt"
    },
    {
      "cell_type": "markdown",
      "metadata": {
        "id": "LX-SYWj_rnJK"
      },
      "source": [
        "<center>\n",
        "\n",
        "# **3. Evaluation**\n",
        "\n",
        "</center>"
      ],
      "id": "LX-SYWj_rnJK"
    },
    {
      "cell_type": "markdown",
      "metadata": {
        "id": "e0NxiQrmrxKY"
      },
      "source": [
        "## Result in validation data\n",
        "\n"
      ],
      "id": "e0NxiQrmrxKY"
    },
    {
      "cell_type": "code",
      "execution_count": null,
      "metadata": {
        "colab": {
          "base_uri": "https://localhost:8080/"
        },
        "id": "EHRkXNh8r61h",
        "outputId": "cd9e0603-22f3-41c3-a7e8-77378cf5f0a3"
      },
      "outputs": [
        {
          "output_type": "stream",
          "name": "stdout",
          "text": [
            "15/15 [==============================] - 1s 7ms/step\n"
          ]
        }
      ],
      "source": [
        "val_pred = model.predict([val_data_1, val_data_2])\n",
        "val_pred_binary=(val_pred > threshold).astype(int)"
      ],
      "id": "EHRkXNh8r61h"
    },
    {
      "cell_type": "code",
      "execution_count": null,
      "metadata": {
        "colab": {
          "base_uri": "https://localhost:8080/"
        },
        "id": "ASGfELUPhO1n",
        "outputId": "eff2a58f-6742-4b16-c2a5-6fe71904c76c"
      },
      "outputs": [
        {
          "output_type": "stream",
          "name": "stdout",
          "text": [
            "              precision    recall  f1-score   support\n",
            "\n",
            "     Class 0       0.40      0.50      0.45       146\n",
            "     Class 1       0.75      0.67      0.71       330\n",
            "\n",
            "    accuracy                           0.62       476\n",
            "   macro avg       0.58      0.59      0.58       476\n",
            "weighted avg       0.65      0.62      0.63       476\n",
            "\n"
          ]
        }
      ],
      "source": [
        "print(classification_report(val_labels_reshaped, val_pred_binary, target_names=['Class 0', 'Class 1']))"
      ],
      "id": "ASGfELUPhO1n"
    },
    {
      "cell_type": "code",
      "source": [
        "cm = confusion_matrix(val_labels_reshaped, val_pred_binary)\n",
        "\n",
        "plt.figure(figsize=(8, 6))\n",
        "sns.heatmap(cm, annot=True, fmt='g', cmap='Blues', xticklabels=['Class 0', 'Class 1'], yticklabels=['Class 0', 'Class 1'])\n",
        "plt.xlabel('Predicted Label')\n",
        "plt.ylabel('True Label')\n",
        "plt.title('Confusion Matrix')\n",
        "plt.show()"
      ],
      "metadata": {
        "colab": {
          "base_uri": "https://localhost:8080/"
        },
        "id": "S8Gi-BSetDK8",
        "outputId": "fc2ae2d0-468e-4426-8246-8238ce8f509c"
      },
      "id": "S8Gi-BSetDK8",
      "execution_count": null,
      "outputs": [
        {
          "output_type": "display_data",
          "data": {
            "text/plain": [
              "<Figure size 800x600 with 2 Axes>"
            ],
            "image/png": "[encoded data removed]"
          },
          "metadata": {}
        }
      ]
    },
    {
      "cell_type": "code",
      "source": [
        "fpr, tpr, thresholds = roc_curve(val_labels_reshaped, val_pred_binary)\n",
        "roc_auc = roc_auc_score(val_labels_reshaped, val_pred_binary)\n",
        "\n",
        "plt.figure(figsize=(8, 6))\n",
        "plt.plot(fpr, tpr, color='darkorange', lw=2, label=f'AUC = {roc_auc:.2f}')\n",
        "plt.plot([0, 1], [0, 1], color='navy', lw=2, linestyle='--')\n",
        "plt.xlabel('False Positive Rate')\n",
        "plt.ylabel('True Positive Rate')\n",
        "plt.title('ROC Curve')\n",
        "plt.legend(loc='lower right')\n",
        "plt.show()\n"
      ],
      "metadata": {
        "colab": {
          "base_uri": "https://localhost:8080/",
          "height": 564
        },
        "id": "ulmAaTB2tKj3",
        "outputId": "16ba1100-22a4-46fd-9e07-2663d32e7d3b"
      },
      "id": "ulmAaTB2tKj3",
      "execution_count": null,
      "outputs": [
        {
          "output_type": "display_data",
          "data": {
            "text/plain": [
              "<Figure size 800x600 with 1 Axes>"
            ],
            "image/png": "[encoded data removed]"
          },
          "metadata": {}
        }
      ]
    },
    {
      "cell_type": "markdown",
      "metadata": {
        "id": "e0d7a96f"
      },
      "source": [
        "## Result in test data"
      ],
      "id": "e0d7a96f"
    },
    {
      "cell_type": "code",
      "execution_count": null,
      "metadata": {
        "id": "MAvsu9tqdf1j"
      },
      "outputs": [],
      "source": [
        "TEST_DATA_PATH='/content/drive/MyDrive/Colab Notebooks/MSRP/test.tsv'"
      ],
      "id": "MAvsu9tqdf1j"
    },
    {
      "cell_type": "code",
      "execution_count": null,
      "metadata": {
        "colab": {
          "base_uri": "https://localhost:8080/"
        },
        "id": "QNJ0SP-mdihN",
        "outputId": "2fbe22e1-a7c0-4f6f-e933-30dbeb32a62f"
      },
      "outputs": [
        {
          "output_type": "stream",
          "name": "stderr",
          "text": [
            "Skipping line 34: expected 5 fields, saw 6\n",
            "Skipping line 121: expected 5 fields, saw 6\n",
            "Skipping line 211: expected 5 fields, saw 6\n",
            "Skipping line 263: expected 5 fields, saw 6\n",
            "Skipping line 345: expected 5 fields, saw 6\n",
            "Skipping line 696: expected 5 fields, saw 6\n",
            "Skipping line 733: expected 5 fields, saw 6\n",
            "Skipping line 847: expected 5 fields, saw 6\n",
            "Skipping line 1392: expected 5 fields, saw 6\n",
            "Skipping line 1467: expected 5 fields, saw 6\n",
            "Skipping line 1551: expected 5 fields, saw 6\n",
            "\n"
          ]
        }
      ],
      "source": [
        "test_df = pd.read_csv(TEST_DATA_PATH, delimiter='\\t', error_bad_lines=False)\n",
        "test_df.dropna(inplace=True)"
      ],
      "id": "QNJ0SP-mdihN"
    },
    {
      "cell_type": "code",
      "execution_count": null,
      "metadata": {
        "id": "RA38Smf-dizY"
      },
      "outputs": [],
      "source": [
        "test_df['new_str1'] = test_df['#1 String'].apply(clean)\n",
        "test_df['new_str2'] = test_df['#2 String'].apply(clean)"
      ],
      "id": "RA38Smf-dizY"
    },
    {
      "cell_type": "code",
      "execution_count": null,
      "metadata": {
        "id": "LLbJN6njdmd-"
      },
      "outputs": [],
      "source": [
        "test_sequences_1 = tokenizer.texts_to_sequences(test_df['new_str1'].values)\n",
        "test_sequences_2 = tokenizer.texts_to_sequences(test_df['new_str2'].values)"
      ],
      "id": "LLbJN6njdmd-"
    },
    {
      "cell_type": "code",
      "execution_count": null,
      "metadata": {
        "id": "pXujFu8_dnvn"
      },
      "outputs": [],
      "source": [
        "test_data_1 = pad_sequences(test_sequences_1, maxlen=maxlen,  padding='post')\n",
        "test_data_2 = pad_sequences(test_sequences_2, maxlen=maxlen,  padding='post')\n",
        "\n",
        "test_labels = test_df['Quality'].values\n",
        "test_labels_reshaped = np.expand_dims(test_labels, axis=-1)"
      ],
      "id": "pXujFu8_dnvn"
    },
    {
      "cell_type": "code",
      "execution_count": null,
      "metadata": {
        "id": "3f479253"
      },
      "outputs": [],
      "source": [
        "#loading best model\n",
        "model.load_weights('model.weights.best.hdf5')"
      ],
      "id": "3f479253"
    },
    {
      "cell_type": "markdown",
      "metadata": {
        "id": "XklnOwUURZij"
      },
      "source": [
        "### Predict"
      ],
      "id": "XklnOwUURZij"
    },
    {
      "cell_type": "code",
      "execution_count": null,
      "metadata": {
        "colab": {
          "base_uri": "https://localhost:8080/"
        },
        "id": "pKBfnR8QL83w",
        "outputId": "47e887bd-67b5-4de9-f621-fdbacb97996e"
      },
      "outputs": [
        {
          "output_type": "stream",
          "name": "stdout",
          "text": [
            "51/51 [==============================] - 0s 7ms/step\n"
          ]
        }
      ],
      "source": [
        "pred=model.predict([test_data_1 , test_data_2])"
      ],
      "id": "pKBfnR8QL83w"
    },
    {
      "cell_type": "code",
      "execution_count": null,
      "metadata": {
        "id": "GoZ9hGRXry55"
      },
      "outputs": [],
      "source": [
        "pred_binary=(pred > threshold).astype(int)"
      ],
      "id": "GoZ9hGRXry55"
    },
    {
      "cell_type": "code",
      "execution_count": null,
      "metadata": {
        "colab": {
          "base_uri": "https://localhost:8080/"
        },
        "id": "_kZgejyLeX5r",
        "outputId": "8ebbaf4d-f58c-4059-a20d-3f186e11f820"
      },
      "outputs": [
        {
          "output_type": "execute_result",
          "data": {
            "text/plain": [
              "(1630, 1)"
            ]
          },
          "metadata": {},
          "execution_count": 90
        }
      ],
      "source": [
        "pred_binary.shape"
      ],
      "id": "_kZgejyLeX5r"
    },
    {
      "cell_type": "code",
      "execution_count": null,
      "metadata": {
        "colab": {
          "base_uri": "https://localhost:8080/"
        },
        "id": "-a-bmYGurzE8",
        "outputId": "6462ab6c-33b5-4bf8-837a-702d201d7e8f"
      },
      "outputs": [
        {
          "output_type": "stream",
          "name": "stdout",
          "text": [
            "              precision    recall  f1-score   support\n",
            "\n",
            "     Class 0       0.42      0.53      0.47       548\n",
            "     Class 1       0.73      0.63      0.68      1082\n",
            "\n",
            "    accuracy                           0.60      1630\n",
            "   macro avg       0.57      0.58      0.57      1630\n",
            "weighted avg       0.62      0.60      0.61      1630\n",
            "\n"
          ]
        }
      ],
      "source": [
        "report = classification_report(test_labels_reshaped, pred_binary, target_names=['Class 0', 'Class 1'])\n",
        "print(report)\n"
      ],
      "id": "-a-bmYGurzE8"
    },
    {
      "cell_type": "code",
      "execution_count": null,
      "metadata": {
        "id": "2288c6d2",
        "colab": {
          "base_uri": "https://localhost:8080/"
        },
        "outputId": "79c1871c-77dc-4a56-fda0-e8d8bdb8c8e6"
      },
      "outputs": [
        {
          "output_type": "display_data",
          "data": {
            "text/plain": [
              "<Figure size 800x600 with 2 Axes>"
            ],
            "image/png": "[encoded data removed]"
          },
          "metadata": {}
        }
      ],
      "source": [
        "from sklearn.metrics import confusion_matrix\n",
        "import seaborn as sns\n",
        "import matplotlib.pyplot as plt\n",
        "\n",
        "# Tính ma trận confusion\n",
        "cm = confusion_matrix(test_labels_reshaped, pred_binary)\n",
        "\n",
        "# Vẽ ma trận confusion bằng heatmap\n",
        "plt.figure(figsize=(8, 6))\n",
        "sns.heatmap(cm, annot=True, fmt='g', cmap='Blues', xticklabels=['Class 0', 'Class 1'], yticklabels=['Class 0', 'Class 1'])\n",
        "plt.xlabel('Predicted Label')\n",
        "plt.ylabel('True Label')\n",
        "plt.title('Confusion Matrix')\n",
        "plt.show()\n"
      ],
      "id": "2288c6d2"
    },
    {
      "cell_type": "code",
      "source": [
        "from sklearn.metrics import roc_curve, roc_auc_score\n",
        "import matplotlib.pyplot as plt\n",
        "\n",
        "# Tính ROC curve và AUC\n",
        "fpr, tpr, thresholds = roc_curve(test_labels_reshaped, pred_binary)\n",
        "roc_auc = roc_auc_score(test_labels_reshaped, pred_binary)\n",
        "\n",
        "# Vẽ ROC curve\n",
        "plt.figure(figsize=(8, 6))\n",
        "plt.plot(fpr, tpr, color='darkorange', lw=2, label=f'AUC = {roc_auc:.2f}')\n",
        "plt.plot([0, 1], [0, 1], color='navy', lw=2, linestyle='--')\n",
        "plt.xlabel('False Positive Rate')\n",
        "plt.ylabel('True Positive Rate')\n",
        "plt.title('ROC Curve')\n",
        "plt.legend(loc='lower right')\n",
        "plt.show()\n"
      ],
      "metadata": {
        "colab": {
          "base_uri": "https://localhost:8080/"
        },
        "id": "tv4BK-8Gl1DV",
        "outputId": "7f16535f-9e6a-4786-d903-4c94b8704db2"
      },
      "id": "tv4BK-8Gl1DV",
      "execution_count": null,
      "outputs": [
        {
          "output_type": "display_data",
          "data": {
            "text/plain": [
              "<Figure size 800x600 with 1 Axes>"
            ],
            "image/png": "[encoded data removed]"
          },
          "metadata": {}
        }
      ]
    },
    {
      "cell_type": "code",
      "source": [],
      "metadata": {
        "id": "tXa6qAfTmQOM"
      },
      "id": "tXa6qAfTmQOM",
      "execution_count": null,
      "outputs": []
    }
  ],
  "metadata": {
    "accelerator": "TPU",
    "colab": {
      "provenance": []
    },
    "kernelspec": {
      "display_name": "Python 3",
      "name": "python3"
    },
    "language_info": {
      "codemirror_mode": {
        "name": "ipython",
        "version": 3
      },
      "file_extension": ".py",
      "mimetype": "text/x-python",
      "name": "python",
      "nbconvert_exporter": "python",
      "pygments_lexer": "ipython3",
      "version": "3.10.9"
    },
    "papermill": {
      "default_parameters": {},
      "duration": 5866.153379,
      "end_time": "2023-05-25T17:56:48.396912",
      "environment_variables": {},
      "exception": null,
      "input_path": "__notebook__.ipynb",
      "output_path": "__notebook__.ipynb",
      "parameters": {},
      "start_time": "2023-05-25T16:19:02.243533",
      "version": "2.4.0"
    }
  },
  "nbformat": 4,
  "nbformat_minor": 5
}